{
 "cells": [
  {
   "cell_type": "markdown",
   "metadata": {},
   "source": [
    "### For this notebook we utilize [this](https://ahmedbesbes.com/sentiment-analysis-on-twitter-using-word2vec-and-keras.html) tutorial to use word2vec on our lyric data. \n",
    "\n",
    "#### Because we use TensorFlow we do all of this in the virtual environment \"pracenv\""
   ]
  },
  {
   "cell_type": "code",
   "execution_count": 1,
   "metadata": {},
   "outputs": [],
   "source": [
    "import pandas as pd\n",
    "import numpy as np\n",
    "import sklearn\n",
    "import matplotlib.pyplot as plt\n",
    "\n",
    "import warnings\n",
    "warnings.filterwarnings('ignore')\n",
    "\n",
    "from copy import deepcopy\n",
    "from string import punctuation\n",
    "from random import shuffle\n",
    "\n",
    "import gensim\n",
    "from gensim.models.word2vec import Word2Vec # the word2vec model gensim class\n",
    "LabeledSentence = gensim.models.doc2vec.LabeledSentence \n",
    "\n",
    "from tqdm import tqdm\n",
    "tqdm.pandas(desc=\"progress-bar\")\n",
    "\n",
    "from nltk.tokenize import TweetTokenizer # a tweet tokenizer from nltk.\n",
    "tokenizer = TweetTokenizer()\n",
    "\n",
    "from sklearn.model_selection import train_test_split\n",
    "from sklearn.feature_extraction.text import TfidfVectorizer"
   ]
  },
  {
   "cell_type": "code",
   "execution_count": 2,
   "metadata": {},
   "outputs": [],
   "source": [
    "lyrics = pd.read_csv('lyrics.csv')\n",
    "lyrics1 = lyrics.query('genre != \"Not Available\"')\n",
    "lyrics1 = lyrics1.dropna()\n",
    "\n",
    "lyrics2 = lyrics1[lyrics1[\"genre\"] == \"Rock\"].sample(n=20000)\n",
    "lyrics3 = lyrics1[lyrics1[\"genre\"] == \"Pop\"].sample(n=20000)\n",
    "lyrics4 = lyrics1[lyrics1[\"genre\"] == \"Hip-Hop\"].sample(n=20000)\n",
    "lyrics0 = pd.concat([lyrics2, lyrics3, lyrics4])\n",
    "lyrics0 = lyrics0.reset_index(drop=True)"
   ]
  },
  {
   "cell_type": "code",
   "execution_count": 3,
   "metadata": {},
   "outputs": [
    {
     "name": "stderr",
     "output_type": "stream",
     "text": [
      "progress-bar: 100%|██████████| 60000/60000 [00:49<00:00, 1210.09it/s]\n"
     ]
    }
   ],
   "source": [
    "def tokenize(tweet):\n",
    "    try:\n",
    "        #tweet = unicode(tweet.decode('utf-8').lower())\n",
    "        tokens = tokenizer.tokenize(tweet)\n",
    "        return tokens\n",
    "    except:\n",
    "        return 'NC'\n",
    "    \n",
    "def postprocess(data):\n",
    "    data['tokens'] = data['lyrics'].progress_map(tokenize)  ## progress_map is a variant of the map function plus a progress bar. Handy to monitor DataFrame creations.\n",
    "    data = data[data.tokens != 'NC']\n",
    "    data.reset_index(inplace=True)\n",
    "    data.drop('index', inplace=True, axis=1)\n",
    "    return data\n",
    "\n",
    "data = postprocess(lyrics0)"
   ]
  },
  {
   "cell_type": "code",
   "execution_count": 4,
   "metadata": {},
   "outputs": [],
   "source": [
    "x_train, x_test, y_train, y_test = train_test_split(np.array(data.tokens), np.array(data.genre), test_size=0.2)"
   ]
  },
  {
   "cell_type": "code",
   "execution_count": 5,
   "metadata": {
    "scrolled": true
   },
   "outputs": [
    {
     "name": "stderr",
     "output_type": "stream",
     "text": [
      "48000it [00:00, 67022.72it/s]\n",
      "12000it [00:00, 33009.29it/s]\n"
     ]
    }
   ],
   "source": [
    "def labelizeLyrics(lyrics, label_type):\n",
    "    labelized = []\n",
    "    for i,v in tqdm(enumerate(lyrics)):\n",
    "        label = '%s_%s'%(label_type,i)\n",
    "        labelized.append(LabeledSentence(v, [label]))\n",
    "    return labelized\n",
    "\n",
    "x_train = labelizeLyrics(x_train, 'TRAIN')\n",
    "x_test = labelizeLyrics(x_test, 'TEST')"
   ]
  },
  {
   "cell_type": "code",
   "execution_count": 6,
   "metadata": {},
   "outputs": [
    {
     "name": "stderr",
     "output_type": "stream",
     "text": [
      "100%|██████████| 48000/48000 [00:00<00:00, 1503525.63it/s]\n",
      "100%|██████████| 48000/48000 [00:00<00:00, 1763980.23it/s]\n"
     ]
    },
    {
     "data": {
      "text/plain": [
       "(50652082, 66453904)"
      ]
     },
     "execution_count": 6,
     "metadata": {},
     "output_type": "execute_result"
    }
   ],
   "source": [
    "tweet_w2v = Word2Vec(size=200, min_count=5)\n",
    "tweet_w2v.build_vocab([x.words for x in tqdm(x_train)])\n",
    "tweet_w2v.train([x.words for x in tqdm(x_train)], total_examples=48000, epochs=4)"
   ]
  },
  {
   "cell_type": "markdown",
   "metadata": {},
   "source": [
    "### Interestingly, when you put a Spanish word in below it gives spanish words as similar"
   ]
  },
  {
   "cell_type": "code",
   "execution_count": 9,
   "metadata": {},
   "outputs": [
    {
     "data": {
      "text/plain": [
       "[('colour', 0.631252646446228),\n",
       " ('colours', 0.5790279507637024),\n",
       " ('scent', 0.5638301372528076),\n",
       " ('grey', 0.5558927059173584),\n",
       " ('complexion', 0.5539994239807129),\n",
       " ('colors', 0.5525627136230469),\n",
       " ('colored', 0.5359302759170532),\n",
       " ('disguise', 0.5311019420623779),\n",
       " ('shade', 0.5239685773849487),\n",
       " ('pale', 0.5225783586502075)]"
      ]
     },
     "execution_count": 9,
     "metadata": {},
     "output_type": "execute_result"
    }
   ],
   "source": [
    "tweet_w2v.most_similar('color')"
   ]
  },
  {
   "cell_type": "code",
   "execution_count": 35,
   "metadata": {},
   "outputs": [],
   "source": [
    "import bokeh.plotting as bp\n",
    "from bokeh.models import HoverTool, BoxSelectTool\n",
    "from bokeh.plotting import figure, show, output_notebook"
   ]
  },
  {
   "cell_type": "code",
   "execution_count": 36,
   "metadata": {},
   "outputs": [
    {
     "data": {
      "text/html": [
       "\n",
       "    <div class=\"bk-root\">\n",
       "        <a href=\"https://bokeh.pydata.org\" target=\"_blank\" class=\"bk-logo bk-logo-small bk-logo-notebook\"></a>\n",
       "        <span id=\"1001\">Loading BokehJS ...</span>\n",
       "    </div>"
      ]
     },
     "metadata": {},
     "output_type": "display_data"
    },
    {
     "data": {
      "application/javascript": [
       "\n",
       "(function(root) {\n",
       "  function now() {\n",
       "    return new Date();\n",
       "  }\n",
       "\n",
       "  var force = true;\n",
       "\n",
       "  if (typeof (root._bokeh_onload_callbacks) === \"undefined\" || force === true) {\n",
       "    root._bokeh_onload_callbacks = [];\n",
       "    root._bokeh_is_loading = undefined;\n",
       "  }\n",
       "\n",
       "  var JS_MIME_TYPE = 'application/javascript';\n",
       "  var HTML_MIME_TYPE = 'text/html';\n",
       "  var EXEC_MIME_TYPE = 'application/vnd.bokehjs_exec.v0+json';\n",
       "  var CLASS_NAME = 'output_bokeh rendered_html';\n",
       "\n",
       "  /**\n",
       "   * Render data to the DOM node\n",
       "   */\n",
       "  function render(props, node) {\n",
       "    var script = document.createElement(\"script\");\n",
       "    node.appendChild(script);\n",
       "  }\n",
       "\n",
       "  /**\n",
       "   * Handle when an output is cleared or removed\n",
       "   */\n",
       "  function handleClearOutput(event, handle) {\n",
       "    var cell = handle.cell;\n",
       "\n",
       "    var id = cell.output_area._bokeh_element_id;\n",
       "    var server_id = cell.output_area._bokeh_server_id;\n",
       "    // Clean up Bokeh references\n",
       "    if (id != null && id in Bokeh.index) {\n",
       "      Bokeh.index[id].model.document.clear();\n",
       "      delete Bokeh.index[id];\n",
       "    }\n",
       "\n",
       "    if (server_id !== undefined) {\n",
       "      // Clean up Bokeh references\n",
       "      var cmd = \"from bokeh.io.state import curstate; print(curstate().uuid_to_server['\" + server_id + \"'].get_sessions()[0].document.roots[0]._id)\";\n",
       "      cell.notebook.kernel.execute(cmd, {\n",
       "        iopub: {\n",
       "          output: function(msg) {\n",
       "            var id = msg.content.text.trim();\n",
       "            if (id in Bokeh.index) {\n",
       "              Bokeh.index[id].model.document.clear();\n",
       "              delete Bokeh.index[id];\n",
       "            }\n",
       "          }\n",
       "        }\n",
       "      });\n",
       "      // Destroy server and session\n",
       "      var cmd = \"import bokeh.io.notebook as ion; ion.destroy_server('\" + server_id + \"')\";\n",
       "      cell.notebook.kernel.execute(cmd);\n",
       "    }\n",
       "  }\n",
       "\n",
       "  /**\n",
       "   * Handle when a new output is added\n",
       "   */\n",
       "  function handleAddOutput(event, handle) {\n",
       "    var output_area = handle.output_area;\n",
       "    var output = handle.output;\n",
       "\n",
       "    // limit handleAddOutput to display_data with EXEC_MIME_TYPE content only\n",
       "    if ((output.output_type != \"display_data\") || (!output.data.hasOwnProperty(EXEC_MIME_TYPE))) {\n",
       "      return\n",
       "    }\n",
       "\n",
       "    var toinsert = output_area.element.find(\".\" + CLASS_NAME.split(' ')[0]);\n",
       "\n",
       "    if (output.metadata[EXEC_MIME_TYPE][\"id\"] !== undefined) {\n",
       "      toinsert[toinsert.length - 1].firstChild.textContent = output.data[JS_MIME_TYPE];\n",
       "      // store reference to embed id on output_area\n",
       "      output_area._bokeh_element_id = output.metadata[EXEC_MIME_TYPE][\"id\"];\n",
       "    }\n",
       "    if (output.metadata[EXEC_MIME_TYPE][\"server_id\"] !== undefined) {\n",
       "      var bk_div = document.createElement(\"div\");\n",
       "      bk_div.innerHTML = output.data[HTML_MIME_TYPE];\n",
       "      var script_attrs = bk_div.children[0].attributes;\n",
       "      for (var i = 0; i < script_attrs.length; i++) {\n",
       "        toinsert[toinsert.length - 1].firstChild.setAttribute(script_attrs[i].name, script_attrs[i].value);\n",
       "      }\n",
       "      // store reference to server id on output_area\n",
       "      output_area._bokeh_server_id = output.metadata[EXEC_MIME_TYPE][\"server_id\"];\n",
       "    }\n",
       "  }\n",
       "\n",
       "  function register_renderer(events, OutputArea) {\n",
       "\n",
       "    function append_mime(data, metadata, element) {\n",
       "      // create a DOM node to render to\n",
       "      var toinsert = this.create_output_subarea(\n",
       "        metadata,\n",
       "        CLASS_NAME,\n",
       "        EXEC_MIME_TYPE\n",
       "      );\n",
       "      this.keyboard_manager.register_events(toinsert);\n",
       "      // Render to node\n",
       "      var props = {data: data, metadata: metadata[EXEC_MIME_TYPE]};\n",
       "      render(props, toinsert[toinsert.length - 1]);\n",
       "      element.append(toinsert);\n",
       "      return toinsert\n",
       "    }\n",
       "\n",
       "    /* Handle when an output is cleared or removed */\n",
       "    events.on('clear_output.CodeCell', handleClearOutput);\n",
       "    events.on('delete.Cell', handleClearOutput);\n",
       "\n",
       "    /* Handle when a new output is added */\n",
       "    events.on('output_added.OutputArea', handleAddOutput);\n",
       "\n",
       "    /**\n",
       "     * Register the mime type and append_mime function with output_area\n",
       "     */\n",
       "    OutputArea.prototype.register_mime_type(EXEC_MIME_TYPE, append_mime, {\n",
       "      /* Is output safe? */\n",
       "      safe: true,\n",
       "      /* Index of renderer in `output_area.display_order` */\n",
       "      index: 0\n",
       "    });\n",
       "  }\n",
       "\n",
       "  // register the mime type if in Jupyter Notebook environment and previously unregistered\n",
       "  if (root.Jupyter !== undefined) {\n",
       "    var events = require('base/js/events');\n",
       "    var OutputArea = require('notebook/js/outputarea').OutputArea;\n",
       "\n",
       "    if (OutputArea.prototype.mime_types().indexOf(EXEC_MIME_TYPE) == -1) {\n",
       "      register_renderer(events, OutputArea);\n",
       "    }\n",
       "  }\n",
       "\n",
       "  \n",
       "  if (typeof (root._bokeh_timeout) === \"undefined\" || force === true) {\n",
       "    root._bokeh_timeout = Date.now() + 5000;\n",
       "    root._bokeh_failed_load = false;\n",
       "  }\n",
       "\n",
       "  var NB_LOAD_WARNING = {'data': {'text/html':\n",
       "     \"<div style='background-color: #fdd'>\\n\"+\n",
       "     \"<p>\\n\"+\n",
       "     \"BokehJS does not appear to have successfully loaded. If loading BokehJS from CDN, this \\n\"+\n",
       "     \"may be due to a slow or bad network connection. Possible fixes:\\n\"+\n",
       "     \"</p>\\n\"+\n",
       "     \"<ul>\\n\"+\n",
       "     \"<li>re-rerun `output_notebook()` to attempt to load from CDN again, or</li>\\n\"+\n",
       "     \"<li>use INLINE resources instead, as so:</li>\\n\"+\n",
       "     \"</ul>\\n\"+\n",
       "     \"<code>\\n\"+\n",
       "     \"from bokeh.resources import INLINE\\n\"+\n",
       "     \"output_notebook(resources=INLINE)\\n\"+\n",
       "     \"</code>\\n\"+\n",
       "     \"</div>\"}};\n",
       "\n",
       "  function display_loaded() {\n",
       "    var el = document.getElementById(\"1001\");\n",
       "    if (el != null) {\n",
       "      el.textContent = \"BokehJS is loading...\";\n",
       "    }\n",
       "    if (root.Bokeh !== undefined) {\n",
       "      if (el != null) {\n",
       "        el.textContent = \"BokehJS \" + root.Bokeh.version + \" successfully loaded.\";\n",
       "      }\n",
       "    } else if (Date.now() < root._bokeh_timeout) {\n",
       "      setTimeout(display_loaded, 100)\n",
       "    }\n",
       "  }\n",
       "\n",
       "\n",
       "  function run_callbacks() {\n",
       "    try {\n",
       "      root._bokeh_onload_callbacks.forEach(function(callback) { callback() });\n",
       "    }\n",
       "    finally {\n",
       "      delete root._bokeh_onload_callbacks\n",
       "    }\n",
       "    console.info(\"Bokeh: all callbacks have finished\");\n",
       "  }\n",
       "\n",
       "  function load_libs(js_urls, callback) {\n",
       "    root._bokeh_onload_callbacks.push(callback);\n",
       "    if (root._bokeh_is_loading > 0) {\n",
       "      console.log(\"Bokeh: BokehJS is being loaded, scheduling callback at\", now());\n",
       "      return null;\n",
       "    }\n",
       "    if (js_urls == null || js_urls.length === 0) {\n",
       "      run_callbacks();\n",
       "      return null;\n",
       "    }\n",
       "    console.log(\"Bokeh: BokehJS not loaded, scheduling load and callback at\", now());\n",
       "    root._bokeh_is_loading = js_urls.length;\n",
       "    for (var i = 0; i < js_urls.length; i++) {\n",
       "      var url = js_urls[i];\n",
       "      var s = document.createElement('script');\n",
       "      s.src = url;\n",
       "      s.async = false;\n",
       "      s.onreadystatechange = s.onload = function() {\n",
       "        root._bokeh_is_loading--;\n",
       "        if (root._bokeh_is_loading === 0) {\n",
       "          console.log(\"Bokeh: all BokehJS libraries loaded\");\n",
       "          run_callbacks()\n",
       "        }\n",
       "      };\n",
       "      s.onerror = function() {\n",
       "        console.warn(\"failed to load library \" + url);\n",
       "      };\n",
       "      console.log(\"Bokeh: injecting script tag for BokehJS library: \", url);\n",
       "      document.getElementsByTagName(\"head\")[0].appendChild(s);\n",
       "    }\n",
       "  };var element = document.getElementById(\"1001\");\n",
       "  if (element == null) {\n",
       "    console.log(\"Bokeh: ERROR: autoload.js configured with elementid '1001' but no matching script tag was found. \")\n",
       "    return false;\n",
       "  }\n",
       "\n",
       "  var js_urls = [\"https://cdn.pydata.org/bokeh/release/bokeh-1.0.4.min.js\", \"https://cdn.pydata.org/bokeh/release/bokeh-widgets-1.0.4.min.js\", \"https://cdn.pydata.org/bokeh/release/bokeh-tables-1.0.4.min.js\", \"https://cdn.pydata.org/bokeh/release/bokeh-gl-1.0.4.min.js\"];\n",
       "\n",
       "  var inline_js = [\n",
       "    function(Bokeh) {\n",
       "      Bokeh.set_log_level(\"info\");\n",
       "    },\n",
       "    \n",
       "    function(Bokeh) {\n",
       "      \n",
       "    },\n",
       "    function(Bokeh) {\n",
       "      console.log(\"Bokeh: injecting CSS: https://cdn.pydata.org/bokeh/release/bokeh-1.0.4.min.css\");\n",
       "      Bokeh.embed.inject_css(\"https://cdn.pydata.org/bokeh/release/bokeh-1.0.4.min.css\");\n",
       "      console.log(\"Bokeh: injecting CSS: https://cdn.pydata.org/bokeh/release/bokeh-widgets-1.0.4.min.css\");\n",
       "      Bokeh.embed.inject_css(\"https://cdn.pydata.org/bokeh/release/bokeh-widgets-1.0.4.min.css\");\n",
       "      console.log(\"Bokeh: injecting CSS: https://cdn.pydata.org/bokeh/release/bokeh-tables-1.0.4.min.css\");\n",
       "      Bokeh.embed.inject_css(\"https://cdn.pydata.org/bokeh/release/bokeh-tables-1.0.4.min.css\");\n",
       "    }\n",
       "  ];\n",
       "\n",
       "  function run_inline_js() {\n",
       "    \n",
       "    if ((root.Bokeh !== undefined) || (force === true)) {\n",
       "      for (var i = 0; i < inline_js.length; i++) {\n",
       "        inline_js[i].call(root, root.Bokeh);\n",
       "      }if (force === true) {\n",
       "        display_loaded();\n",
       "      }} else if (Date.now() < root._bokeh_timeout) {\n",
       "      setTimeout(run_inline_js, 100);\n",
       "    } else if (!root._bokeh_failed_load) {\n",
       "      console.log(\"Bokeh: BokehJS failed to load within specified timeout.\");\n",
       "      root._bokeh_failed_load = true;\n",
       "    } else if (force !== true) {\n",
       "      var cell = $(document.getElementById(\"1001\")).parents('.cell').data().cell;\n",
       "      cell.output_area.append_execute_result(NB_LOAD_WARNING)\n",
       "    }\n",
       "\n",
       "  }\n",
       "\n",
       "  if (root._bokeh_is_loading === 0) {\n",
       "    console.log(\"Bokeh: BokehJS loaded, going straight to plotting\");\n",
       "    run_inline_js();\n",
       "  } else {\n",
       "    load_libs(js_urls, function() {\n",
       "      console.log(\"Bokeh: BokehJS plotting callback run at\", now());\n",
       "      run_inline_js();\n",
       "    });\n",
       "  }\n",
       "}(window));"
      ],
      "application/vnd.bokehjs_load.v0+json": "\n(function(root) {\n  function now() {\n    return new Date();\n  }\n\n  var force = true;\n\n  if (typeof (root._bokeh_onload_callbacks) === \"undefined\" || force === true) {\n    root._bokeh_onload_callbacks = [];\n    root._bokeh_is_loading = undefined;\n  }\n\n  \n\n  \n  if (typeof (root._bokeh_timeout) === \"undefined\" || force === true) {\n    root._bokeh_timeout = Date.now() + 5000;\n    root._bokeh_failed_load = false;\n  }\n\n  var NB_LOAD_WARNING = {'data': {'text/html':\n     \"<div style='background-color: #fdd'>\\n\"+\n     \"<p>\\n\"+\n     \"BokehJS does not appear to have successfully loaded. If loading BokehJS from CDN, this \\n\"+\n     \"may be due to a slow or bad network connection. Possible fixes:\\n\"+\n     \"</p>\\n\"+\n     \"<ul>\\n\"+\n     \"<li>re-rerun `output_notebook()` to attempt to load from CDN again, or</li>\\n\"+\n     \"<li>use INLINE resources instead, as so:</li>\\n\"+\n     \"</ul>\\n\"+\n     \"<code>\\n\"+\n     \"from bokeh.resources import INLINE\\n\"+\n     \"output_notebook(resources=INLINE)\\n\"+\n     \"</code>\\n\"+\n     \"</div>\"}};\n\n  function display_loaded() {\n    var el = document.getElementById(\"1001\");\n    if (el != null) {\n      el.textContent = \"BokehJS is loading...\";\n    }\n    if (root.Bokeh !== undefined) {\n      if (el != null) {\n        el.textContent = \"BokehJS \" + root.Bokeh.version + \" successfully loaded.\";\n      }\n    } else if (Date.now() < root._bokeh_timeout) {\n      setTimeout(display_loaded, 100)\n    }\n  }\n\n\n  function run_callbacks() {\n    try {\n      root._bokeh_onload_callbacks.forEach(function(callback) { callback() });\n    }\n    finally {\n      delete root._bokeh_onload_callbacks\n    }\n    console.info(\"Bokeh: all callbacks have finished\");\n  }\n\n  function load_libs(js_urls, callback) {\n    root._bokeh_onload_callbacks.push(callback);\n    if (root._bokeh_is_loading > 0) {\n      console.log(\"Bokeh: BokehJS is being loaded, scheduling callback at\", now());\n      return null;\n    }\n    if (js_urls == null || js_urls.length === 0) {\n      run_callbacks();\n      return null;\n    }\n    console.log(\"Bokeh: BokehJS not loaded, scheduling load and callback at\", now());\n    root._bokeh_is_loading = js_urls.length;\n    for (var i = 0; i < js_urls.length; i++) {\n      var url = js_urls[i];\n      var s = document.createElement('script');\n      s.src = url;\n      s.async = false;\n      s.onreadystatechange = s.onload = function() {\n        root._bokeh_is_loading--;\n        if (root._bokeh_is_loading === 0) {\n          console.log(\"Bokeh: all BokehJS libraries loaded\");\n          run_callbacks()\n        }\n      };\n      s.onerror = function() {\n        console.warn(\"failed to load library \" + url);\n      };\n      console.log(\"Bokeh: injecting script tag for BokehJS library: \", url);\n      document.getElementsByTagName(\"head\")[0].appendChild(s);\n    }\n  };var element = document.getElementById(\"1001\");\n  if (element == null) {\n    console.log(\"Bokeh: ERROR: autoload.js configured with elementid '1001' but no matching script tag was found. \")\n    return false;\n  }\n\n  var js_urls = [\"https://cdn.pydata.org/bokeh/release/bokeh-1.0.4.min.js\", \"https://cdn.pydata.org/bokeh/release/bokeh-widgets-1.0.4.min.js\", \"https://cdn.pydata.org/bokeh/release/bokeh-tables-1.0.4.min.js\", \"https://cdn.pydata.org/bokeh/release/bokeh-gl-1.0.4.min.js\"];\n\n  var inline_js = [\n    function(Bokeh) {\n      Bokeh.set_log_level(\"info\");\n    },\n    \n    function(Bokeh) {\n      \n    },\n    function(Bokeh) {\n      console.log(\"Bokeh: injecting CSS: https://cdn.pydata.org/bokeh/release/bokeh-1.0.4.min.css\");\n      Bokeh.embed.inject_css(\"https://cdn.pydata.org/bokeh/release/bokeh-1.0.4.min.css\");\n      console.log(\"Bokeh: injecting CSS: https://cdn.pydata.org/bokeh/release/bokeh-widgets-1.0.4.min.css\");\n      Bokeh.embed.inject_css(\"https://cdn.pydata.org/bokeh/release/bokeh-widgets-1.0.4.min.css\");\n      console.log(\"Bokeh: injecting CSS: https://cdn.pydata.org/bokeh/release/bokeh-tables-1.0.4.min.css\");\n      Bokeh.embed.inject_css(\"https://cdn.pydata.org/bokeh/release/bokeh-tables-1.0.4.min.css\");\n    }\n  ];\n\n  function run_inline_js() {\n    \n    if ((root.Bokeh !== undefined) || (force === true)) {\n      for (var i = 0; i < inline_js.length; i++) {\n        inline_js[i].call(root, root.Bokeh);\n      }if (force === true) {\n        display_loaded();\n      }} else if (Date.now() < root._bokeh_timeout) {\n      setTimeout(run_inline_js, 100);\n    } else if (!root._bokeh_failed_load) {\n      console.log(\"Bokeh: BokehJS failed to load within specified timeout.\");\n      root._bokeh_failed_load = true;\n    } else if (force !== true) {\n      var cell = $(document.getElementById(\"1001\")).parents('.cell').data().cell;\n      cell.output_area.append_execute_result(NB_LOAD_WARNING)\n    }\n\n  }\n\n  if (root._bokeh_is_loading === 0) {\n    console.log(\"Bokeh: BokehJS loaded, going straight to plotting\");\n    run_inline_js();\n  } else {\n    load_libs(js_urls, function() {\n      console.log(\"Bokeh: BokehJS plotting callback run at\", now());\n      run_inline_js();\n    });\n  }\n}(window));"
     },
     "metadata": {},
     "output_type": "display_data"
    },
    {
     "name": "stdout",
     "output_type": "stream",
     "text": [
      "[t-SNE] Computing 91 nearest neighbors...\n",
      "[t-SNE] Indexed 4000 samples in 0.027s...\n",
      "[t-SNE] Computed neighbors for 4000 samples in 6.124s...\n",
      "[t-SNE] Computed conditional probabilities for sample 1000 / 4000\n",
      "[t-SNE] Computed conditional probabilities for sample 2000 / 4000\n",
      "[t-SNE] Computed conditional probabilities for sample 3000 / 4000\n",
      "[t-SNE] Computed conditional probabilities for sample 4000 / 4000\n",
      "[t-SNE] Mean sigma: 0.454658\n",
      "[t-SNE] KL divergence after 250 iterations with early exaggeration: 80.132668\n",
      "[t-SNE] KL divergence after 1000 iterations: 2.027988\n"
     ]
    },
    {
     "data": {
      "text/html": [
       "\n",
       "\n",
       "\n",
       "\n",
       "\n",
       "\n",
       "  <div class=\"bk-root\" id=\"e2bf05ca-6ce8-4a28-b5f6-def805afee05\" data-root-id=\"1003\"></div>\n"
      ]
     },
     "metadata": {},
     "output_type": "display_data"
    },
    {
     "data": {
      "application/javascript": [
       "(function(root) {\n",
       "  function embed_document(root) {\n",
       "    \n",
       "  var docs_json = {\"3dbf93bb-f729-4475-9781-b97e9cbe99e4\":{\"roots\":{\"references\":[{\"attributes\":{\"min_border\":1,\"plot_width\":700,\"renderers\":[{\"id\":\"1021\",\"type\":\"BoxAnnotation\"},{\"id\":\"1032\",\"type\":\"GlyphRenderer\"}],\"title\":{\"id\":\"1002\",\"type\":\"Title\"},\"toolbar\":{\"id\":\"1019\",\"type\":\"Toolbar\"},\"x_range\":{\"id\":\"1005\",\"type\":\"DataRange1d\"},\"x_scale\":{\"id\":\"1009\",\"type\":\"LinearScale\"},\"y_range\":{\"id\":\"1007\",\"type\":\"DataRange1d\"},\"y_scale\":{\"id\":\"1011\",\"type\":\"LinearScale\"}},\"id\":\"1003\",\"subtype\":\"Figure\",\"type\":\"Plot\"},{\"attributes\":{},\"id\":\"1014\",\"type\":\"WheelZoomTool\"},{\"attributes\":{\"overlay\":{\"id\":\"1021\",\"type\":\"BoxAnnotation\"}},\"id\":\"1015\",\"type\":\"BoxZoomTool\"},{\"attributes\":{\"fill_color\":{\"value\":\"#1f77b4\"},\"line_color\":{\"value\":\"#1f77b4\"},\"x\":{\"field\":\"x\"},\"y\":{\"field\":\"y\"}},\"id\":\"1030\",\"type\":\"Scatter\"},{\"attributes\":{},\"id\":\"1016\",\"type\":\"ResetTool\"},{\"attributes\":{\"callback\":null,\"tooltips\":[[\"word\",\"@words\"]]},\"id\":\"1017\",\"type\":\"HoverTool\"},{\"attributes\":{},\"id\":\"1018\",\"type\":\"SaveTool\"},{\"attributes\":{\"fill_alpha\":{\"value\":0.1},\"fill_color\":{\"value\":\"#1f77b4\"},\"line_alpha\":{\"value\":0.1},\"line_color\":{\"value\":\"#1f77b4\"},\"x\":{\"field\":\"x\"},\"y\":{\"field\":\"y\"}},\"id\":\"1031\",\"type\":\"Scatter\"},{\"attributes\":{\"active_drag\":\"auto\",\"active_inspect\":\"auto\",\"active_multi\":null,\"active_scroll\":\"auto\",\"active_tap\":\"auto\",\"tools\":[{\"id\":\"1013\",\"type\":\"PanTool\"},{\"id\":\"1014\",\"type\":\"WheelZoomTool\"},{\"id\":\"1015\",\"type\":\"BoxZoomTool\"},{\"id\":\"1016\",\"type\":\"ResetTool\"},{\"id\":\"1017\",\"type\":\"HoverTool\"},{\"id\":\"1018\",\"type\":\"SaveTool\"}]},\"id\":\"1019\",\"type\":\"Toolbar\"},{\"attributes\":{\"bottom_units\":\"screen\",\"fill_alpha\":{\"value\":0.5},\"fill_color\":{\"value\":\"lightgrey\"},\"left_units\":\"screen\",\"level\":\"overlay\",\"line_alpha\":{\"value\":1.0},\"line_color\":{\"value\":\"black\"},\"line_dash\":[4,4],\"line_width\":{\"value\":2},\"plot\":null,\"render_mode\":\"css\",\"right_units\":\"screen\",\"top_units\":\"screen\"},\"id\":\"1021\",\"type\":\"BoxAnnotation\"},{\"attributes\":{},\"id\":\"1037\",\"type\":\"UnionRenderers\"},{\"attributes\":{\"data_source\":{\"id\":\"1028\",\"type\":\"ColumnDataSource\"},\"glyph\":{\"id\":\"1030\",\"type\":\"Scatter\"},\"hover_glyph\":null,\"muted_glyph\":null,\"nonselection_glyph\":{\"id\":\"1031\",\"type\":\"Scatter\"},\"selection_glyph\":null,\"view\":{\"id\":\"1033\",\"type\":\"CDSView\"}},\"id\":\"1032\",\"type\":\"GlyphRenderer\"},{\"attributes\":{\"plot\":null,\"text\":\"A map of word vectors\"},\"id\":\"1002\",\"type\":\"Title\"},{\"attributes\":{},\"id\":\"1036\",\"type\":\"Selection\"},{\"attributes\":{\"callback\":null},\"id\":\"1005\",\"type\":\"DataRange1d\"},{\"attributes\":{\"source\":{\"id\":\"1028\",\"type\":\"ColumnDataSource\"}},\"id\":\"1033\",\"type\":\"CDSView\"},{\"attributes\":{\"callback\":null},\"id\":\"1007\",\"type\":\"DataRange1d\"},{\"attributes\":{},\"id\":\"1009\",\"type\":\"LinearScale\"},{\"attributes\":{},\"id\":\"1011\",\"type\":\"LinearScale\"},{\"attributes\":{},\"id\":\"1013\",\"type\":\"PanTool\"},{\"attributes\":{\"callback\":null,\"data\":{\"index\":[0,1,2,3,4,5,6,7,8,9,10,11,12,13,14,15,16,17,18,19,20,21,22,23,24,25,26,27,28,29,30,31,32,33,34,35,36,37,38,39,40,41,42,43,44,45,46,47,48,49,50,51,52,53,54,55,56,57,58,59,60,61,62,63,64,65,66,67,68,69,70,71,72,73,74,75,76,77,78,79,80,81,82,83,84,85,86,87,88,89,90,91,92,93,94,95,96,97,98,99,100,101,102,103,104,105,106,107,108,109,110,111,112,113,114,115,116,117,118,119,120,121,122,123,124,125,126,127,128,129,130,131,132,133,134,135,136,137,138,139,140,141,142,143,144,145,146,147,148,149,150,151,152,153,154,155,156,157,158,159,160,161,162,163,164,165,166,167,168,169,170,171,172,173,174,175,176,177,178,179,180,181,182,183,184,185,186,187,188,189,190,191,192,193,194,195,196,197,198,199,200,201,202,203,204,205,206,207,208,209,210,211,212,213,214,215,216,217,218,219,220,221,222,223,224,225,226,227,228,229,230,231,232,233,234,235,236,237,238,239,240,241,242,243,244,245,246,247,248,249,250,251,252,253,254,255,256,257,258,259,260,261,262,263,264,265,266,267,268,269,270,271,272,273,274,275,276,277,278,279,280,281,282,283,284,285,286,287,288,289,290,291,292,293,294,295,296,297,298,299,300,301,302,303,304,305,306,307,308,309,310,311,312,313,314,315,316,317,318,319,320,321,322,323,324,325,326,327,328,329,330,331,332,333,334,335,336,337,338,339,340,341,342,343,344,345,346,347,348,349,350,351,352,353,354,355,356,357,358,359,360,361,362,363,364,365,366,367,368,369,370,371,372,373,374,375,376,377,378,379,380,381,382,383,384,385,386,387,388,389,390,391,392,393,394,395,396,397,398,399,400,401,402,403,404,405,406,407,408,409,410,411,412,413,414,415,416,417,418,419,420,421,422,423,424,425,426,427,428,429,430,431,432,433,434,435,436,437,438,439,440,441,442,443,444,445,446,447,448,449,450,451,452,453,454,455,456,457,458,459,460,461,462,463,464,465,466,467,468,469,470,471,472,473,474,475,476,477,478,479,480,481,482,483,484,485,486,487,488,489,490,491,492,493,494,495,496,497,498,499,500,501,502,503,504,505,506,507,508,509,510,511,512,513,514,515,516,517,518,519,520,521,522,523,524,525,526,527,528,529,530,531,532,533,534,535,536,537,538,539,540,541,542,543,544,545,546,547,548,549,550,551,552,553,554,555,556,557,558,559,560,561,562,563,564,565,566,567,568,569,570,571,572,573,574,575,576,577,578,579,580,581,582,583,584,585,586,587,588,589,590,591,592,593,594,595,596,597,598,599,600,601,602,603,604,605,606,607,608,609,610,611,612,613,614,615,616,617,618,619,620,621,622,623,624,625,626,627,628,629,630,631,632,633,634,635,636,637,638,639,640,641,642,643,644,645,646,647,648,649,650,651,652,653,654,655,656,657,658,659,660,661,662,663,664,665,666,667,668,669,670,671,672,673,674,675,676,677,678,679,680,681,682,683,684,685,686,687,688,689,690,691,692,693,694,695,696,697,698,699,700,701,702,703,704,705,706,707,708,709,710,711,712,713,714,715,716,717,718,719,720,721,722,723,724,725,726,727,728,729,730,731,732,733,734,735,736,737,738,739,740,741,742,743,744,745,746,747,748,749,750,751,752,753,754,755,756,757,758,759,760,761,762,763,764,765,766,767,768,769,770,771,772,773,774,775,776,777,778,779,780,781,782,783,784,785,786,787,788,789,790,791,792,793,794,795,796,797,798,799,800,801,802,803,804,805,806,807,808,809,810,811,812,813,814,815,816,817,818,819,820,821,822,823,824,825,826,827,828,829,830,831,832,833,834,835,836,837,838,839,840,841,842,843,844,845,846,847,848,849,850,851,852,853,854,855,856,857,858,859,860,861,862,863,864,865,866,867,868,869,870,871,872,873,874,875,876,877,878,879,880,881,882,883,884,885,886,887,888,889,890,891,892,893,894,895,896,897,898,899,900,901,902,903,904,905,906,907,908,909,910,911,912,913,914,915,916,917,918,919,920,921,922,923,924,925,926,927,928,929,930,931,932,933,934,935,936,937,938,939,940,941,942,943,944,945,946,947,948,949,950,951,952,953,954,955,956,957,958,959,960,961,962,963,964,965,966,967,968,969,970,971,972,973,974,975,976,977,978,979,980,981,982,983,984,985,986,987,988,989,990,991,992,993,994,995,996,997,998,999,1000,1001,1002,1003,1004,1005,1006,1007,1008,1009,1010,1011,1012,1013,1014,1015,1016,1017,1018,1019,1020,1021,1022,1023,1024,1025,1026,1027,1028,1029,1030,1031,1032,1033,1034,1035,1036,1037,1038,1039,1040,1041,1042,1043,1044,1045,1046,1047,1048,1049,1050,1051,1052,1053,1054,1055,1056,1057,1058,1059,1060,1061,1062,1063,1064,1065,1066,1067,1068,1069,1070,1071,1072,1073,1074,1075,1076,1077,1078,1079,1080,1081,1082,1083,1084,1085,1086,1087,1088,1089,1090,1091,1092,1093,1094,1095,1096,1097,1098,1099,1100,1101,1102,1103,1104,1105,1106,1107,1108,1109,1110,1111,1112,1113,1114,1115,1116,1117,1118,1119,1120,1121,1122,1123,1124,1125,1126,1127,1128,1129,1130,1131,1132,1133,1134,1135,1136,1137,1138,1139,1140,1141,1142,1143,1144,1145,1146,1147,1148,1149,1150,1151,1152,1153,1154,1155,1156,1157,1158,1159,1160,1161,1162,1163,1164,1165,1166,1167,1168,1169,1170,1171,1172,1173,1174,1175,1176,1177,1178,1179,1180,1181,1182,1183,1184,1185,1186,1187,1188,1189,1190,1191,1192,1193,1194,1195,1196,1197,1198,1199,1200,1201,1202,1203,1204,1205,1206,1207,1208,1209,1210,1211,1212,1213,1214,1215,1216,1217,1218,1219,1220,1221,1222,1223,1224,1225,1226,1227,1228,1229,1230,1231,1232,1233,1234,1235,1236,1237,1238,1239,1240,1241,1242,1243,1244,1245,1246,1247,1248,1249,1250,1251,1252,1253,1254,1255,1256,1257,1258,1259,1260,1261,1262,1263,1264,1265,1266,1267,1268,1269,1270,1271,1272,1273,1274,1275,1276,1277,1278,1279,1280,1281,1282,1283,1284,1285,1286,1287,1288,1289,1290,1291,1292,1293,1294,1295,1296,1297,1298,1299,1300,1301,1302,1303,1304,1305,1306,1307,1308,1309,1310,1311,1312,1313,1314,1315,1316,1317,1318,1319,1320,1321,1322,1323,1324,1325,1326,1327,1328,1329,1330,1331,1332,1333,1334,1335,1336,1337,1338,1339,1340,1341,1342,1343,1344,1345,1346,1347,1348,1349,1350,1351,1352,1353,1354,1355,1356,1357,1358,1359,1360,1361,1362,1363,1364,1365,1366,1367,1368,1369,1370,1371,1372,1373,1374,1375,1376,1377,1378,1379,1380,1381,1382,1383,1384,1385,1386,1387,1388,1389,1390,1391,1392,1393,1394,1395,1396,1397,1398,1399,1400,1401,1402,1403,1404,1405,1406,1407,1408,1409,1410,1411,1412,1413,1414,1415,1416,1417,1418,1419,1420,1421,1422,1423,1424,1425,1426,1427,1428,1429,1430,1431,1432,1433,1434,1435,1436,1437,1438,1439,1440,1441,1442,1443,1444,1445,1446,1447,1448,1449,1450,1451,1452,1453,1454,1455,1456,1457,1458,1459,1460,1461,1462,1463,1464,1465,1466,1467,1468,1469,1470,1471,1472,1473,1474,1475,1476,1477,1478,1479,1480,1481,1482,1483,1484,1485,1486,1487,1488,1489,1490,1491,1492,1493,1494,1495,1496,1497,1498,1499,1500,1501,1502,1503,1504,1505,1506,1507,1508,1509,1510,1511,1512,1513,1514,1515,1516,1517,1518,1519,1520,1521,1522,1523,1524,1525,1526,1527,1528,1529,1530,1531,1532,1533,1534,1535,1536,1537,1538,1539,1540,1541,1542,1543,1544,1545,1546,1547,1548,1549,1550,1551,1552,1553,1554,1555,1556,1557,1558,1559,1560,1561,1562,1563,1564,1565,1566,1567,1568,1569,1570,1571,1572,1573,1574,1575,1576,1577,1578,1579,1580,1581,1582,1583,1584,1585,1586,1587,1588,1589,1590,1591,1592,1593,1594,1595,1596,1597,1598,1599,1600,1601,1602,1603,1604,1605,1606,1607,1608,1609,1610,1611,1612,1613,1614,1615,1616,1617,1618,1619,1620,1621,1622,1623,1624,1625,1626,1627,1628,1629,1630,1631,1632,1633,1634,1635,1636,1637,1638,1639,1640,1641,1642,1643,1644,1645,1646,1647,1648,1649,1650,1651,1652,1653,1654,1655,1656,1657,1658,1659,1660,1661,1662,1663,1664,1665,1666,1667,1668,1669,1670,1671,1672,1673,1674,1675,1676,1677,1678,1679,1680,1681,1682,1683,1684,1685,1686,1687,1688,1689,1690,1691,1692,1693,1694,1695,1696,1697,1698,1699,1700,1701,1702,1703,1704,1705,1706,1707,1708,1709,1710,1711,1712,1713,1714,1715,1716,1717,1718,1719,1720,1721,1722,1723,1724,1725,1726,1727,1728,1729,1730,1731,1732,1733,1734,1735,1736,1737,1738,1739,1740,1741,1742,1743,1744,1745,1746,1747,1748,1749,1750,1751,1752,1753,1754,1755,1756,1757,1758,1759,1760,1761,1762,1763,1764,1765,1766,1767,1768,1769,1770,1771,1772,1773,1774,1775,1776,1777,1778,1779,1780,1781,1782,1783,1784,1785,1786,1787,1788,1789,1790,1791,1792,1793,1794,1795,1796,1797,1798,1799,1800,1801,1802,1803,1804,1805,1806,1807,1808,1809,1810,1811,1812,1813,1814,1815,1816,1817,1818,1819,1820,1821,1822,1823,1824,1825,1826,1827,1828,1829,1830,1831,1832,1833,1834,1835,1836,1837,1838,1839,1840,1841,1842,1843,1844,1845,1846,1847,1848,1849,1850,1851,1852,1853,1854,1855,1856,1857,1858,1859,1860,1861,1862,1863,1864,1865,1866,1867,1868,1869,1870,1871,1872,1873,1874,1875,1876,1877,1878,1879,1880,1881,1882,1883,1884,1885,1886,1887,1888,1889,1890,1891,1892,1893,1894,1895,1896,1897,1898,1899,1900,1901,1902,1903,1904,1905,1906,1907,1908,1909,1910,1911,1912,1913,1914,1915,1916,1917,1918,1919,1920,1921,1922,1923,1924,1925,1926,1927,1928,1929,1930,1931,1932,1933,1934,1935,1936,1937,1938,1939,1940,1941,1942,1943,1944,1945,1946,1947,1948,1949,1950,1951,1952,1953,1954,1955,1956,1957,1958,1959,1960,1961,1962,1963,1964,1965,1966,1967,1968,1969,1970,1971,1972,1973,1974,1975,1976,1977,1978,1979,1980,1981,1982,1983,1984,1985,1986,1987,1988,1989,1990,1991,1992,1993,1994,1995,1996,1997,1998,1999,2000,2001,2002,2003,2004,2005,2006,2007,2008,2009,2010,2011,2012,2013,2014,2015,2016,2017,2018,2019,2020,2021,2022,2023,2024,2025,2026,2027,2028,2029,2030,2031,2032,2033,2034,2035,2036,2037,2038,2039,2040,2041,2042,2043,2044,2045,2046,2047,2048,2049,2050,2051,2052,2053,2054,2055,2056,2057,2058,2059,2060,2061,2062,2063,2064,2065,2066,2067,2068,2069,2070,2071,2072,2073,2074,2075,2076,2077,2078,2079,2080,2081,2082,2083,2084,2085,2086,2087,2088,2089,2090,2091,2092,2093,2094,2095,2096,2097,2098,2099,2100,2101,2102,2103,2104,2105,2106,2107,2108,2109,2110,2111,2112,2113,2114,2115,2116,2117,2118,2119,2120,2121,2122,2123,2124,2125,2126,2127,2128,2129,2130,2131,2132,2133,2134,2135,2136,2137,2138,2139,2140,2141,2142,2143,2144,2145,2146,2147,2148,2149,2150,2151,2152,2153,2154,2155,2156,2157,2158,2159,2160,2161,2162,2163,2164,2165,2166,2167,2168,2169,2170,2171,2172,2173,2174,2175,2176,2177,2178,2179,2180,2181,2182,2183,2184,2185,2186,2187,2188,2189,2190,2191,2192,2193,2194,2195,2196,2197,2198,2199,2200,2201,2202,2203,2204,2205,2206,2207,2208,2209,2210,2211,2212,2213,2214,2215,2216,2217,2218,2219,2220,2221,2222,2223,2224,2225,2226,2227,2228,2229,2230,2231,2232,2233,2234,2235,2236,2237,2238,2239,2240,2241,2242,2243,2244,2245,2246,2247,2248,2249,2250,2251,2252,2253,2254,2255,2256,2257,2258,2259,2260,2261,2262,2263,2264,2265,2266,2267,2268,2269,2270,2271,2272,2273,2274,2275,2276,2277,2278,2279,2280,2281,2282,2283,2284,2285,2286,2287,2288,2289,2290,2291,2292,2293,2294,2295,2296,2297,2298,2299,2300,2301,2302,2303,2304,2305,2306,2307,2308,2309,2310,2311,2312,2313,2314,2315,2316,2317,2318,2319,2320,2321,2322,2323,2324,2325,2326,2327,2328,2329,2330,2331,2332,2333,2334,2335,2336,2337,2338,2339,2340,2341,2342,2343,2344,2345,2346,2347,2348,2349,2350,2351,2352,2353,2354,2355,2356,2357,2358,2359,2360,2361,2362,2363,2364,2365,2366,2367,2368,2369,2370,2371,2372,2373,2374,2375,2376,2377,2378,2379,2380,2381,2382,2383,2384,2385,2386,2387,2388,2389,2390,2391,2392,2393,2394,2395,2396,2397,2398,2399,2400,2401,2402,2403,2404,2405,2406,2407,2408,2409,2410,2411,2412,2413,2414,2415,2416,2417,2418,2419,2420,2421,2422,2423,2424,2425,2426,2427,2428,2429,2430,2431,2432,2433,2434,2435,2436,2437,2438,2439,2440,2441,2442,2443,2444,2445,2446,2447,2448,2449,2450,2451,2452,2453,2454,2455,2456,2457,2458,2459,2460,2461,2462,2463,2464,2465,2466,2467,2468,2469,2470,2471,2472,2473,2474,2475,2476,2477,2478,2479,2480,2481,2482,2483,2484,2485,2486,2487,2488,2489,2490,2491,2492,2493,2494,2495,2496,2497,2498,2499,2500,2501,2502,2503,2504,2505,2506,2507,2508,2509,2510,2511,2512,2513,2514,2515,2516,2517,2518,2519,2520,2521,2522,2523,2524,2525,2526,2527,2528,2529,2530,2531,2532,2533,2534,2535,2536,2537,2538,2539,2540,2541,2542,2543,2544,2545,2546,2547,2548,2549,2550,2551,2552,2553,2554,2555,2556,2557,2558,2559,2560,2561,2562,2563,2564,2565,2566,2567,2568,2569,2570,2571,2572,2573,2574,2575,2576,2577,2578,2579,2580,2581,2582,2583,2584,2585,2586,2587,2588,2589,2590,2591,2592,2593,2594,2595,2596,2597,2598,2599,2600,2601,2602,2603,2604,2605,2606,2607,2608,2609,2610,2611,2612,2613,2614,2615,2616,2617,2618,2619,2620,2621,2622,2623,2624,2625,2626,2627,2628,2629,2630,2631,2632,2633,2634,2635,2636,2637,2638,2639,2640,2641,2642,2643,2644,2645,2646,2647,2648,2649,2650,2651,2652,2653,2654,2655,2656,2657,2658,2659,2660,2661,2662,2663,2664,2665,2666,2667,2668,2669,2670,2671,2672,2673,2674,2675,2676,2677,2678,2679,2680,2681,2682,2683,2684,2685,2686,2687,2688,2689,2690,2691,2692,2693,2694,2695,2696,2697,2698,2699,2700,2701,2702,2703,2704,2705,2706,2707,2708,2709,2710,2711,2712,2713,2714,2715,2716,2717,2718,2719,2720,2721,2722,2723,2724,2725,2726,2727,2728,2729,2730,2731,2732,2733,2734,2735,2736,2737,2738,2739,2740,2741,2742,2743,2744,2745,2746,2747,2748,2749,2750,2751,2752,2753,2754,2755,2756,2757,2758,2759,2760,2761,2762,2763,2764,2765,2766,2767,2768,2769,2770,2771,2772,2773,2774,2775,2776,2777,2778,2779,2780,2781,2782,2783,2784,2785,2786,2787,2788,2789,2790,2791,2792,2793,2794,2795,2796,2797,2798,2799,2800,2801,2802,2803,2804,2805,2806,2807,2808,2809,2810,2811,2812,2813,2814,2815,2816,2817,2818,2819,2820,2821,2822,2823,2824,2825,2826,2827,2828,2829,2830,2831,2832,2833,2834,2835,2836,2837,2838,2839,2840,2841,2842,2843,2844,2845,2846,2847,2848,2849,2850,2851,2852,2853,2854,2855,2856,2857,2858,2859,2860,2861,2862,2863,2864,2865,2866,2867,2868,2869,2870,2871,2872,2873,2874,2875,2876,2877,2878,2879,2880,2881,2882,2883,2884,2885,2886,2887,2888,2889,2890,2891,2892,2893,2894,2895,2896,2897,2898,2899,2900,2901,2902,2903,2904,2905,2906,2907,2908,2909,2910,2911,2912,2913,2914,2915,2916,2917,2918,2919,2920,2921,2922,2923,2924,2925,2926,2927,2928,2929,2930,2931,2932,2933,2934,2935,2936,2937,2938,2939,2940,2941,2942,2943,2944,2945,2946,2947,2948,2949,2950,2951,2952,2953,2954,2955,2956,2957,2958,2959,2960,2961,2962,2963,2964,2965,2966,2967,2968,2969,2970,2971,2972,2973,2974,2975,2976,2977,2978,2979,2980,2981,2982,2983,2984,2985,2986,2987,2988,2989,2990,2991,2992,2993,2994,2995,2996,2997,2998,2999,3000,3001,3002,3003,3004,3005,3006,3007,3008,3009,3010,3011,3012,3013,3014,3015,3016,3017,3018,3019,3020,3021,3022,3023,3024,3025,3026,3027,3028,3029,3030,3031,3032,3033,3034,3035,3036,3037,3038,3039,3040,3041,3042,3043,3044,3045,3046,3047,3048,3049,3050,3051,3052,3053,3054,3055,3056,3057,3058,3059,3060,3061,3062,3063,3064,3065,3066,3067,3068,3069,3070,3071,3072,3073,3074,3075,3076,3077,3078,3079,3080,3081,3082,3083,3084,3085,3086,3087,3088,3089,3090,3091,3092,3093,3094,3095,3096,3097,3098,3099,3100,3101,3102,3103,3104,3105,3106,3107,3108,3109,3110,3111,3112,3113,3114,3115,3116,3117,3118,3119,3120,3121,3122,3123,3124,3125,3126,3127,3128,3129,3130,3131,3132,3133,3134,3135,3136,3137,3138,3139,3140,3141,3142,3143,3144,3145,3146,3147,3148,3149,3150,3151,3152,3153,3154,3155,3156,3157,3158,3159,3160,3161,3162,3163,3164,3165,3166,3167,3168,3169,3170,3171,3172,3173,3174,3175,3176,3177,3178,3179,3180,3181,3182,3183,3184,3185,3186,3187,3188,3189,3190,3191,3192,3193,3194,3195,3196,3197,3198,3199,3200,3201,3202,3203,3204,3205,3206,3207,3208,3209,3210,3211,3212,3213,3214,3215,3216,3217,3218,3219,3220,3221,3222,3223,3224,3225,3226,3227,3228,3229,3230,3231,3232,3233,3234,3235,3236,3237,3238,3239,3240,3241,3242,3243,3244,3245,3246,3247,3248,3249,3250,3251,3252,3253,3254,3255,3256,3257,3258,3259,3260,3261,3262,3263,3264,3265,3266,3267,3268,3269,3270,3271,3272,3273,3274,3275,3276,3277,3278,3279,3280,3281,3282,3283,3284,3285,3286,3287,3288,3289,3290,3291,3292,3293,3294,3295,3296,3297,3298,3299,3300,3301,3302,3303,3304,3305,3306,3307,3308,3309,3310,3311,3312,3313,3314,3315,3316,3317,3318,3319,3320,3321,3322,3323,3324,3325,3326,3327,3328,3329,3330,3331,3332,3333,3334,3335,3336,3337,3338,3339,3340,3341,3342,3343,3344,3345,3346,3347,3348,3349,3350,3351,3352,3353,3354,3355,3356,3357,3358,3359,3360,3361,3362,3363,3364,3365,3366,3367,3368,3369,3370,3371,3372,3373,3374,3375,3376,3377,3378,3379,3380,3381,3382,3383,3384,3385,3386,3387,3388,3389,3390,3391,3392,3393,3394,3395,3396,3397,3398,3399,3400,3401,3402,3403,3404,3405,3406,3407,3408,3409,3410,3411,3412,3413,3414,3415,3416,3417,3418,3419,3420,3421,3422,3423,3424,3425,3426,3427,3428,3429,3430,3431,3432,3433,3434,3435,3436,3437,3438,3439,3440,3441,3442,3443,3444,3445,3446,3447,3448,3449,3450,3451,3452,3453,3454,3455,3456,3457,3458,3459,3460,3461,3462,3463,3464,3465,3466,3467,3468,3469,3470,3471,3472,3473,3474,3475,3476,3477,3478,3479,3480,3481,3482,3483,3484,3485,3486,3487,3488,3489,3490,3491,3492,3493,3494,3495,3496,3497,3498,3499,3500,3501,3502,3503,3504,3505,3506,3507,3508,3509,3510,3511,3512,3513,3514,3515,3516,3517,3518,3519,3520,3521,3522,3523,3524,3525,3526,3527,3528,3529,3530,3531,3532,3533,3534,3535,3536,3537,3538,3539,3540,3541,3542,3543,3544,3545,3546,3547,3548,3549,3550,3551,3552,3553,3554,3555,3556,3557,3558,3559,3560,3561,3562,3563,3564,3565,3566,3567,3568,3569,3570,3571,3572,3573,3574,3575,3576,3577,3578,3579,3580,3581,3582,3583,3584,3585,3586,3587,3588,3589,3590,3591,3592,3593,3594,3595,3596,3597,3598,3599,3600,3601,3602,3603,3604,3605,3606,3607,3608,3609,3610,3611,3612,3613,3614,3615,3616,3617,3618,3619,3620,3621,3622,3623,3624,3625,3626,3627,3628,3629,3630,3631,3632,3633,3634,3635,3636,3637,3638,3639,3640,3641,3642,3643,3644,3645,3646,3647,3648,3649,3650,3651,3652,3653,3654,3655,3656,3657,3658,3659,3660,3661,3662,3663,3664,3665,3666,3667,3668,3669,3670,3671,3672,3673,3674,3675,3676,3677,3678,3679,3680,3681,3682,3683,3684,3685,3686,3687,3688,3689,3690,3691,3692,3693,3694,3695,3696,3697,3698,3699,3700,3701,3702,3703,3704,3705,3706,3707,3708,3709,3710,3711,3712,3713,3714,3715,3716,3717,3718,3719,3720,3721,3722,3723,3724,3725,3726,3727,3728,3729,3730,3731,3732,3733,3734,3735,3736,3737,3738,3739,3740,3741,3742,3743,3744,3745,3746,3747,3748,3749,3750,3751,3752,3753,3754,3755,3756,3757,3758,3759,3760,3761,3762,3763,3764,3765,3766,3767,3768,3769,3770,3771,3772,3773,3774,3775,3776,3777,3778,3779,3780,3781,3782,3783,3784,3785,3786,3787,3788,3789,3790,3791,3792,3793,3794,3795,3796,3797,3798,3799,3800,3801,3802,3803,3804,3805,3806,3807,3808,3809,3810,3811,3812,3813,3814,3815,3816,3817,3818,3819,3820,3821,3822,3823,3824,3825,3826,3827,3828,3829,3830,3831,3832,3833,3834,3835,3836,3837,3838,3839,3840,3841,3842,3843,3844,3845,3846,3847,3848,3849,3850,3851,3852,3853,3854,3855,3856,3857,3858,3859,3860,3861,3862,3863,3864,3865,3866,3867,3868,3869,3870,3871,3872,3873,3874,3875,3876,3877,3878,3879,3880,3881,3882,3883,3884,3885,3886,3887,3888,3889,3890,3891,3892,3893,3894,3895,3896,3897,3898,3899,3900,3901,3902,3903,3904,3905,3906,3907,3908,3909,3910,3911,3912,3913,3914,3915,3916,3917,3918,3919,3920,3921,3922,3923,3924,3925,3926,3927,3928,3929,3930,3931,3932,3933,3934,3935,3936,3937,3938,3939,3940,3941,3942,3943,3944,3945,3946,3947,3948,3949,3950,3951,3952,3953,3954,3955,3956,3957,3958,3959,3960,3961,3962,3963,3964,3965,3966,3967,3968,3969,3970,3971,3972,3973,3974,3975,3976,3977,3978,3979,3980,3981,3982,3983,3984,3985,3986,3987,3988,3989,3990,3991,3992,3993,3994,3995,3996,3997,3998,3999],\"words\":[\"I'll\",\"get\",\"so\",\"close\",\"to\",\"you\",\",\",\"let\",\"down\",\"my\",\"friend\",\"You\",\"see\",\"it\",\"in\",\"this\",\"face\",\"and\",\"hear\",\"these\",\"words\",\"And\",\"I\",\"begin\",\"know\",\"feel\",\"everything\",\"I've\",\"wanted\",\"become\",\"a\",\"man\",\"through\",\"find\",\"out\",\"needs\",\"separation\",\"Push\",\"away\",\"anyone\",\"connected\",\"To\",\"your\",\"life\",\"ties\",\"push\",\"all\",\"said\",\"it's\",\"right\",\"there\",\"for\",\"now\",\"Hey\",\"tell\",\"...\",\"turn\",\"back\",\"never\",\"meant\",\"leave\",\"room\",\"began\",\"alone\",\"you've\",\"begun\",\"again\",\"alive\",\"Can\",\"constant\",\"resurrection\",\"of\",\"I'm\",\"sorry\",\"those\",\"things\",\"help\",\"fill\",\"always\",\"put\",\"here\",\"Thought\",\"take\",\"time\",\"grow\",\"was\",\"sent\",\"be\",\"left\",\"hurt\",\"sad\",\"gone\",\"too\",\"peeped\",\"on\",\"the\",\"phone\",\"Just\",\"showin\",\"'\",\"off\",\"ya\",\"stones\",\"notice\",\"that\",\"pinky\",\"ring\",\"is\",\"bright\",\"enough\",\"baby\",\"you're\",\"not\",\"But\",\"could\",\"just\",\"wrong\",\"The\",\"way\",\"them\",\"fellas\",\"up\",\"like\",\"advantage\",\"Every\",\"love\",\"game\",\"girl\",\"don't\",\"mind\",\"if\",\"come\",\"play\",\"with\",\"us\",\"talk\",\"much\",\"cute\",\"have\",\"say\",\"word\",\"See\",\"guys\",\"wanna\",\"treat\",\"Cause\",\"sweeter\",\"than\",\"apple\",\"pie\",\"Everything\",\"want\",\"got\",\"Girl\",\"need\",\"stop\",\"Most\",\"beautiful\",\"thing\",\"sight\",\"Always\",\"takin\",\"spotlight\",\"club\",\"lookin\",\"hot\",\"talkin\",\"bout\",\"what\",\"can\",\"something\",\"That's\",\"why\",\"hold\",\"pass\",\"by\",\"Can't\",\"resist\",\"can't\",\"lie\",\"Now\",\"are\",\"me\",\"Or\",\"everybody\",\"watchin\",\"shake\",\"from\",\"move\",\"hypnotized\",\"My\",\"eyes\",\"when\",\"floor\",\"do\",\"body\",\"kind\",\"remind\",\"myself\",\"type\",\"drive\",\"crazy\",\"will\",\"snatch\",\"him\",\"his\",\"lady\",\"No\",\"matter\",\"how\",\"hard\",\"he'll\",\"end\",\"callin\",\"they\",\"really\",\"once\",\"expose\",\"Ya\",\"had\",\"crawlin\",\"hands\",\"knees\",\"em\",\"cheese\",\"thinkin\",\"only\",\"dude\",\"she\",\"mall\",\"livin\",\"Lettin\",\"but\",\"fool\",\"World\",\"turns\",\"around\",\"her\",\"almost\",\"laugh\",\"at\",\"Done\",\"various\",\"mistakes\",\"made\",\"stupid\",\"lies\",\"We\",\"lived\",\"although\",\"knew\",\"She\",\"witch\",\"might\",\"Powerful\",\"even\",\"anyway\",\"Mystical\",\"well\",\"She's\",\"real\",\"what's\",\"If\",\"make\",\"she's\",\"loving\",\"Love\",\"watch\",\"lest\",\"loves\",\"fell\",\"warn\",\"forever\",\"spell\",\".\",\"smiling\",\"content\",\"think\",\"Life\",\"go\",\"nicely\",\"until\",\"realise\",\"You'll\",\"differently\",\"Tell\",\"Give\",\"give\",\"sexy\",\"cool\",\"Let\",\"show\",\"knock\",\"Come\",\"Light\",\"fire\",\"hand\",\"key\",\"Pure\",\"desire\",\"yes\",\"ooh\",\"touch\",\"honey\",\"true\",\"(\",\"ha\",\"one\",\"more\",\")\",\"America\",\"big\",\"country\",\"idea\",\"fortune\",\"cookie\",\"place\",\"where\",\"people\",\"invent\",\"themselves\",\"So\",\"found\",\"making\",\"two\",\"girls\",\"At\",\"Washington\",\"DC\",\"been\",\"Beautiful\",\"strange\",\"Wake\",\"Feel\",\"broken\",\"heart\",\"Beaten\",\"drum\",\"Even\",\"dark\",\"Shine\",\"everyone\",\"reading\",\"history\",\"alot\",\"sounds\",\"Empire\",\"building\",\"world\",\"foreign\",\"policy\",\"compassion\",\"still\",\"believe\",\"somewhere\",\"underneath\",\"mess\",\"America's\",\"good\",\"guess\",\"In\",\"their\",\"hearts\",\"They\",\"greedy\",\"scared\",\"must\",\"lonley\",\"being\",\"sometimes\",\"Up\",\"night\",\"no\",\"share\",\"long\",\"drives\",\"Don't\",\"worry\",\"we\",\"won't\",\"fall\",\"asleep\",\"wheel\",\"Are\",\"ready\",\"Falling\",\"easy\",\"oh\",\"Somehow\",\"rough\",\"figure\",\"our\",\"suppose\",\"last\",\"Why\",\"There's\",\"nothing\",\"else\",\"better\",\"Let's\",\"kiss\",\"fight\",\"together\",\"Make\",\"alright\",\"tonight\",\"let's\",\"there's\",\"Yes\",\"we've\",\"vows\",\"babe\",\"past\",\"behind\",\"start\",\"anew\",\"yeah\",\"miss\",\"tender\",\"lips\",\"gave\",\"pleasure\",\"lovin\",\"intense\",\"Say\",\"you'll\",\"Never\",\"Our\",\"supposed\",\"AD\",\"TO\",\"FADE\",\"job\",\"Salvation\",\"Army\",\"save\",\"soul\",\"lost\",\"along\",\"cannot\",\"\\\"\",\"May\",\"Got\",\"statue\",\"inside\",\"chest\",\"Dropped\",\"would\",\"break\",\"picking\",\"pieces\",\"saving\",\"Ringing\",\"bell\",\"world's\",\"attached\",\"strings\",\"That\",\"pull\",\"sun\",\"Where\",\"we'll\",\"burn\",\"done\",\"Someday\",\"peace\",\"Oh\",\"sleep\",\"child\",\"without\",\"pain\",\"-\",\"fear\",\"Like\",\"smile\",\"afternoon\",\"someday\",\"Lord\",\"name\",\"It's\",\"written\",\"tears\",\"flow\",\"Broken\",\"hearted\",\"All\",\"run\",\"Yeah\",\"Chris\",\"&\",\"Blue\",\"/\",\"Feliz\",\"Navidad\",\"Prospero\",\"Ano\",\"y\",\"Felicidad\",\"wish\",\"Merry\",\"Christmas\",\"From\",\"bottom\",\"Little\",\"children\",\"alight\",\"tied\",\"burning\",\"trees\",\"slam\",\"wings\",\"sing\",\"Vivian\",\"dancing\",\"tragedy\",\"victory\",\"he\",\"struggles\",\"trying\",\"free\",\"before\",\"cut\",\"ear\",\"city\",\"cast\",\"marble\",\"moans\",\"throwing\",\"flowers\",\"air\",\"trumpet\",\"roars\",\"as\",\"blood\",\"poured\",\"onto\",\"streets\",\"soldiers\",\"swords\",\"idols\",\"march\",\"ruins\",\"jubilee\",\"they'll\",\"spend\",\"hiding\",\"dirty\",\"thoughts\",\"minds\",\"goes\",\"die\",\"has\",\"burst\",\"flood\",\"emotion\",\"Carries\",\"self\",\"doubt\",\"Dei\",\"reign\",\";\",\"backs\",\"barred\",\"whip\",\"finest\",\"dolls\",\"hesitate\",\"skin\",\"draw\",\"Ginger\",\"rear\",\"screams\",\"It\",\"hurts\",\"sky\",\"wouldn't\",\"God\",\"?\",\"When\",\"seems\",\"feels\",\"worth\",\"believing\",\"mysterious\",\"holding\",\"diseased\",\"sin\",\"guilt\",\"Something\",\"about\",\"add\",\"staying\",\"mean\",\"lying\",\"Watcha\",\"gonna\",\"win\",\"over\",\"prove\",\"How\",\"deny\",\"Listen\",\"saying\",\"cause\",\"devotion\",\"trust\",\"promises\",\"ain't\",\"seem\",\"!\",\"Nothing\",\"heard\",\"Put\",\"car\",\"keys\",\"you'd\",\"stick\",\"You're\",\"Close\",\"lock\",\"door\",\"drop\",\"Forget\",\"Baby\",\"Because\",\"fun\",\"morning\",\"light\",\"We'll\",\"started\",\"low\",\"care\",\"hope\",\"shape\",\"working\",\"late\",\"clock\",\"try\",\"keep\",\"going\",\"strong\",\"work\",\"glad\",\"stars\",\"mine\",\"afraid\",\"A\",\"little\",\"case\",\"pronounce\",\"dead\",\"that's\",\"dry\",\"day\",\"lonely\",\"reaches\",\"loneliness\",\"race\",\"hide\",\"money\",\"town\",\"crucified\",\"middle\",\"Keep\",\"isn't\",\"funny\",\"testify\",\"reason\",\"rely\",\"Only\",\"dreams\",\"fly\",\"tear\",\"apart\",\"paradise\",\"acid\",\"freak\",\"power\",\"prayer\",\"Long\",\"halls\",\"science\",\"lunatics\",\"committed\",\"Robot\",\"Lords\",\"Tokyo\",\"Smile\",\"taste\",\"kittens\",\"Did\",\"Royal\",\"hunting\",\"grounds\",\"forbidden\",\"rolling\",\"tape\",\"Bits\",\"large\",\"small\",\"eat\",\"Its\",\"already\",\"Among\",\"metal\",\"ones\",\"messenger\",\"soon\",\"arrive\",\"10001110101\",\"table\",\"center\",\"piece\",\"Man\",\"jive\",\"lyrics\",\"Radioactive\",\"dont\",\"near\",\"Temple\",\"Syrinx\",\"having\",\"bake\",\"sale\",\"year\",\"Aint\",\"Gonna\",\"brawl\",\"bitty\",\"babies\",\"king\",\"cakes\",\"Bonnie\",\"Clyde\",\"whole\",\"dome\",\"shackles\",\"Will\",\"shatter\",\"bones\",\"Half\",\"double\",\"three\",\"times\",\"Bang\",\"bang\",\"shot\",\"hit\",\"ground\",\"awful\",\"sound\",\"five\",\"were\",\"six\",\"rode\",\"horses\",\"sticks\",\"wore\",\"black\",\"white\",\"Seasons\",\"came\",\"changed\",\"grew\",\"called\",\"Remember\",\"used\",\"Music\",\"played\",\"sang\",\"church\",\"bells\",\"rang\",\"After\",\"echoes\",\"gun\",\"both\",\"vowed\",\"we'd\",\"Sometimes\",\"cry\",\"didn't\",\"goodbye\",\"fuck\",\"anal\",\"cunt\",\"lifeless\",\"flesh\",\"feast\",\"tight\",\"today\",\"another\",\"means\",\"Shit\",\"prick\",\"bloody\",\"Anal\",\"boy\",\"fucking\",\"deal\",\"Another\",\"corpse\",\"meal\",\"Nobody\",\"cares\",\"Your\",\"fucks\",\"As\",\"lay\",\"feet\",\"rape\",\"ass\",\"penetrate\",\"deep\",\"Here\",\"Hear\",\"knockin\",\"same\",\"old\",\"Yet\",\"Well\",\"clear\",\"Though\",\"barking\",\"some\",\"hound\",\"life's\",\"many\",\"ways\",\"Too\",\"darkness\",\"gets\",\"crazed\",\"Christ\",\"looking\",\"Inside\",\"friends\",\"Who\",\"swing\",\"vine\",\"Not\",\"sense\",\"calling\",\"There'll\",\"ever\",\"couldn't\",\"pick\",\"known\",\"Then\",\"I'd\",\"very\",\"own\",\"longs\",\"belongs\",\"may\",\"live\",\"forget\",\"we're\",\"wonder\",\"missed\",\"pray\",\"belong\",\"Mm\",\"mm\",\"excuse\",\"i\",\"angry\",\"confused\",\"kill\",\"realize\",\"loaded\",\"understand\",\"i'll\",\"comprehend\",\"system\",\"misleading\",\"untrue\",\"someone\",\"send\",\"message\",\"justice\",\"i'm\",\"picture\",\"expression\",\"waved\",\"responsibility\",\"dug\",\"grave\",\"took\",\"seriously\",\"he's\",\"fair\",\"absurd\",\"scott\",\"instead\",\"Having\",\"loved\",\"yourself\",\"home\",\"speak\",\"sign\",\"Watch\",\"tomorrow\",\"feelin\",\"sick\",\"Complain\",\"With\",\"each\",\"crime\",\"stuck\",\"rest\",\"test\",\"head\",\"fucker\",\"Maybe\",\"getting\",\"For\",\"every\",\"caressed\",\"society\",\"Have\",\"step\",\"dance\",\"band\",\"starts\",\"Holding\",\"carried\",\"Finding\",\"falling\",\"Lost\",\"feeling\",\"Time\",\"standing\",\"whirl\",\"We're\",\"touching\",\"spoken\",\"music\",\"did\",\"stay\",\"probably\",\"lot\",\"putting\",\"gotta\",\"games\",\"any\",\"after\",\"dream\",\"Deep\",\"into\",\"distant\",\"says\",\"anymore\",\"Drive\",\"stake\",\"finds\",\"sleeping\",\"cancer\",\"cured\",\"breathe\",\"told\",\"Coz\",\"Sleep\",\"wait\",\"doesn't\",\"mask\",\"sunlight\",\"monday\",\"outside\",\"control\",\"Givin\",\"secret\",\"vain\",\"seize\",\"Please\",\"waiting\",\"goodnight\",\"wake\",\"arms\",\"There\",\"single\",\"swear\",\"On\",\"bended\",\"beg\",\"or\",\"heaven\",\"feelings\",\"truth\",\"reachin\",\"far\",\"high\",\"somebody\",\"wants\",\"What\",\"stone\",\"Rolling\",\"Till\",\"promise\",\"anything\",\"mistake\",\"blame\",\"counted\",\"ago\",\"City\",\"strangers\",\"Out\",\"danger\",\"half\",\"awake\",\"Grab\",\"ahold\",\"Regretting\",\"who'd\",\"stand\",\"side\",\"bearing\",\"forgiveness\",\"Dnde\",\"estabas\",\"tantas\",\"horas\",\"Juntos\",\"en\",\"la\",\"misma\",\"habitacin\",\"mirando\",\"subir\",\"las\",\"olas\",\"para\",\"Si\",\"suerte\",\"dice\",\"que\",\"quiere\",\"verme\",\"le\",\"llamar\",\"robado\",\"mientras\",\"duerme\",\"Me\",\"pasado\",\"viendo\",\"de\",\"los\",\"flor\",\"se\",\"acerca\",\"una\",\"amapola\",\"vuelve\",\"boca\",\"sabor\",\"Mrame\",\"ojos\",\"s\",\"qu\",\"ests\",\"pensando\",\"De\",\"tu\",\"cabeza\",\"quiero\",\"beber\",\"caldo\",\"Para\",\"matar\",\"mis\",\"dudas\",\"hasta\",\"luna\",\"suelo\",\"vete\",\"como\",\"basura\",\":\",\"Soledad\",\"fueron\",\"llegar\",\"Ella\",\"esconde\",\"el\",\"aire\",\"sonido\",\"mi\",\"voz\",\"yo\",\"un\",\"perro\",\"cancin\",\"ves\",\"estoy\",\"poco\",\"triste\",\"es\",\"t\",\"eres\",\"Y\",\"si\",\"te\",\"sientes\",\"amor\",\"devulveme\",\"todas\",\"paso\",\"somos\",\"dos\",\"..\",\"Ser\",\"han\",\"miedo\",\"saber\",\"mas\",\"loca\",\"necesito\",\"ver\",\"amanecer\",\"cuando\",\"toca\",\"`\",\"re\",\"walk\",\"least\",\"shoes\",\"bad\",\"ve\",\"Coming\",\"ten\",\"saw\",\"Inn\",\"recognized\",\"dress\",\"bought\",\"match\",\"red\",\"didn\",\"complain\",\"knocking\",\"fifteen\",\"minutes\",\"cold\",\"pouring\",\"rain\",\"doing\",\"beside\",\"please\",\"favor\",\"Take\",\"different\",\"wheels\",\"One\",\"plan\",\"airport\",\"should\",\"sure\",\"rather\",\"Than\",\"road\",\"top\",\"shaking\",\"hinder\",\"Moving\",\"inch\",\"private\",\"bomb\",\"stretch\",\"surrounding\",\"protecting\",\"harm\",\"use\",\"wallet\",\"mouth\",\"bite\",\"bleed\",\"drilled\",\"wire\",\"cheek\",\"sleeve\",\"pulling\",\"best\",\"which\",\"comes\",\"This\",\"wires\",\"its\",\"hooked\",\"within\",\"gums\",\"Within\",\"drill\",\"proof\",\"shame\",\"stolen\",\"first\",\"Pretending\",\"teacher\",\"weight\",\"ease\",\"split\",\"Destroying\",\"crawling\",\"position\",\"Below\",\"wing\",\"lift\",\"feathered\",\"arm\",\"noticed\",\"swollen\",\"brutal\",\"rust\",\"bring\",\"wash\",\"cloth\",\"rub\",\"dirt\",\"Myself\",\"barely\",\"beating\",\"an\",\"argument\",\"attack\",\"human\",\"while\",\"count\",\"vision\",\"confidence\",\"Told\",\"pack\",\"shit\",\"guidance\",\"crying\",\"secrets\",\"art\",\"grieve\",\"lessons\",\"goal\",\"achieve\",\"Last\",\"June\",\"demon\",\"clouds\",\"shade\",\"pavement\",\"steaming\",\"Billy\",\"Ray\",\"Chevrolet\",\"needed\",\"thinking\",\"walking\",\"looked\",\"eye\",\"swore\",\"winking\",\"thirty\",\"seventeen\",\"sat\",\"front\",\"porch\",\"wondered\",\"coming\",\"closed\",\"climbed\",\"sweat\",\"trickled\",\"gown\",\"thought\",\"melt\",\"threw\",\"hair\",\"wasn't\",\"sipped\",\"Her\",\"shoulders\",\"bare\",\"tried\",\"stare\",\"softly\",\"young\",\"chase\",\"then\",\"smiled\",\"talked\",\"walked\",\"mile\",\"sea\",\"sand\",\"rise\",\"Ten\",\"years\",\"Since\",\"memory\",\"lingers\",\"fingers\",\"believed\",\"Had\",\"strength\",\"carry\",\"upside\",\"Went\",\"set\",\"What's\",\"magic\",\"moment\",\"gazed\",\"brought\",\"filled\",\"new\",\"harmony\",\"Stay\",\"lives\",\"such\",\"ev'ry\",\"ev'rything\",\"O\",\"holy\",\"brightly\",\"shining\",\"tis\",\"dear\",\"savior's\",\"birth\",\"error\",\"pining\",\"Til\",\"appeared\",\"felt\",\"weary\",\"rejoices\",\"yonder\",\"breaks\",\"glorious\",\"morn\",\"Fall\",\"angel\",\"voices\",\"divine\",\"born\",\"Truly\",\"taught\",\"His\",\"law\",\"gospel\",\"Chains\",\"shall\",\"slave\",\"brother\",\"oppression\",\"cease\",\"Sweet\",\"hymns\",\"joy\",\"grateful\",\"chorus\",\"raise\",\"praise\",\"city's\",\"wall's\",\"brace\",\"Song\",\"full\",\"less\",\"hearing\",\"Is\",\"asking\",\"chance\",\"taking\",\"wall\",\"bridge\",\"crashing\",\"wished\",\"changing\",\"slaughter\",\"house\",\"am\",\"gutter\",\"Working\",\"mother\",\"smells\",\"okay\",\"because\",\"everyday\",\"hey\",\"Pieces\",\"brains\",\"flying\",\"Playing\",\"stuff\",\"makes\",\"Ooooooo\",\"woooo\",\"oooo\",\"Dow\",\"dow\",\"Ooooo\",\"Ahhhhh\",\"ahhhhh\",\"Ooo\",\"wave\",\"blue\",\"Doo\",\"doo\",\"early\",\"grass\",\"covered\",\"dew\",\"turning\",\"radio\",\"dial\",\"sit\",\"listen\",\"awhile\",\"looks\",\"great\",\"flake\",\"paint\",\"digging\",\"Outside\",\"storm\",\"warm\",\"kids\",\"splitting\",\"\\u00c3\",\"\\u0094\",\"news\",\"lose\",\"ooo\",\"Made\",\"call\",\"Id\",\"steal\",\"Turns\",\"shes\",\"virgin\",\"B\",\"Bunch\",\"dudes\",\"didnt\",\"Turned\",\"sweet\",\"Met\",\"sucks\",\"underage\",\"itll\",\"statutory\",\"passion\",\"Threw\",\"affection\",\"Cant\",\"describe\",\"song\",\"Cutie\",\"longer\",\"con\",\"begged\",\"grasp\",\"lifes\",\"fading\",\"acts\",\"louder\",\"Ignored\",\"stumble\",\"suddenly\",\"shreds\",\"street\",\"Yearning\",\"blissful\",\"escape\",\"whore\",\"bed\",\"noise\",\"hole\",\"pride\",\"nowhere\",\"blessings\",\"they're\",\"You've\",\"part\",\"machinery\",\"breather\",\"Figure\",\"reasons\",\"stopped\",\"Save\",\"caresses\",\"Go\",\"confusion\",\"Travel\",\"Chorus\",\"meantime\",\"Call\",\"silence\",\"Leave\",\"stranded\",\"island\",\"pillow\",\"suspicions\",\"desires\",\"whisper\",\"remember\",\"ll\",\"Perhaps\",\"greener\",\"Set\",\"courage\",\"faith\",\"travel\",\"round\",\"teardrops\",\"Melt\",\"laughter\",\"paths\",\"cross\",\"line\",\"pretend\",\"don\",\"m\",\"existence\",\"distance\",\"survive\",\"Gary\",\"Moore\",\"begins\",\"wonderin\",\"mark\",\"disappeared\",\"nobody\",\"sailed\",\"across\",\"mountain\",\"rejoice\",\"Sailed\",\"voice\",\"shoulder\",\"summer\",\"slept\",\"under\",\"mist\",\"cleared\",\"mountainside\",\"steep\",\"Somebody\",\"climb\",\"catch\",\"wary\",\"Back\",\"Need\",\"fault\",\"admit\",\"learned\",\"watching\",\"others\",\"seen\",\"either\",\"in-between\",\"wise\",\"soars\",\"Hearing\",\"thank\",\"sending\",\"greatest\",\"matters\",\"Loved\",\"river\",\"stronger\",\"spinning\",\"beginning\",\"Better\",\"destiny\",\"Brought\",\"guarantee\",\"Livin\",\"shadow\",\"messes\",\"circle\",\"overflow\",\"leap\",\"Into\",\"colors\",\"seek\",\"look\",\"yesterday\",\"Wanna\",\"scream\",\"aftermath\",\"Anytime\",\"anybody\",\"pulls\",\"allowed\",\"Of\",\"contradictions\",\"Think\",\"rewrite\",\"role\",\"Before\",\"shed\",\"armor\",\"trip\",\"glitter\",\"stranger\",\"Two\",\"places\",\"Through\",\"one-way\",\"window\",\"faces\",\"reached\",\"forgotten\",\"other\",\"person\",\"shows\",\"minded\",\"else's\",\"morals\",\"point\",\"view\",\"Turn\",\"shadows\",\"y'all\",\"Ain't\",\"question\",\"who\",\"gon\",\"track\",\"Step\",\"multiple\",\"shots\",\"goin\",\"pastor\",\"blessed\",\"I'ma\",\"thang\",\"buck\",\"rip\",\"chainsaw\",\"game's\",\"raw\",\"bible\",\"needin\",\"jesus\",\"hits\",\"Archie\",\"droppin\",\"million\",\"dollars\",\"Rockin\",\"phat\",\"flame\",\"background\",\"bustin\",\"cousin\",\"huh\",\"bitch\",\"nigga\",\"somethin\",\"stumblin\",\"stutterin\",\"drunk\",\"mercy\",\"playa\",\"haters\",\"worthy\",\"Hell\",\"naw\",\"bet\",\"Atlanta\",\"georgia\",\"since\",\"younger\",\"days\",\"16\",\"paid\",\"Courtney\",\"chop\",\"crunk\",\"keeps\",\"comin\",\"throwin\",\"bows\",\"foes\",\"freeze\",\"suckas\",\"bringin\",\"bust\",\"stack\",\"cop\",\"stoppin\",\"quick\",\"Playin\",\"ball\",\"likes\",\"twisted\",\"knot\",\"lockin\",\"Devotion\",\"reaching\",\"star\",\"shine\",\"nothing's\",\"finished\",\"waited\",\"withered\",\"Could've\",\"cheated\",\"that'd\",\"though\",\"few\",\"slip\",\"More\",\"crush\",\"romantic\",\"gesture\",\"letting\",\"quite\",\"simple\",\"Waiting\",\"til\",\"timing\",\"missing\",\"waste\",\"compare\",\"unpredictable\",\"Gotta\",\"read\",\"between\",\"lines\",\"civilian\",\"spank\",\"fine\",\"Razor\",\"keen\",\"Things\",\"hatchet\",\"Hack\",\"pan\",\"murder\",\"squad\",\"Off\",\"kick\",\"Kick\",\"Daybreak\",\"cried\",\"heartache\",\"sees\",\"daybreak\",\"curtain\",\"lace\",\"sitting\",\"talking\",\"spending\",\"storybook\",\"fairy\",\"tales\",\"knows\",\"heartbreak\",\"Looks\",\"Sunlight\",\"Sun\",\"Lone\",\"shy\",\"Mac\",\"kicked\",\"bucket\",\"holes\",\"pockets\",\"ran\",\"quickness\",\"Rather\",\"stillness\",\"Ooh\",\"Sing\",\"hurry\",\"furry\",\"hours\",\"Could\",\"compromise\",\"Do\",\"indian\",\"style\",\"age\",\"everyone's\",\"minute\",\"attention\",\"span\",\"failure\",\"witness\",\"cycle\",\"defeat\",\"actually\",\"beat\",\"monster\",\"ride\",\"legs\",\"four\",\"triumph\",\"machine\",\"finally\",\"families\",\"doubts\",\"beliefs\",\"winner\",\"indeed\",\"master\",\"worked\",\"cruise\",\"lane\",\"addiction\",\"bike\",\"riding\",\"knuckles\",\"grip\",\"i've\",\"beast\",\"hitting\",\"craving\",\"block\",\"town's\",\"hype\",\"heads\",\"above\",\"cats\",\"school\",\"yard\",\"sorrow\",\"Three\",\"boys\",\"Five\",\"tough\",\"Old\",\"trouble\",\"ask\",\"maybe\",\"buy\",\"glass\",\"wine\",\"fishing\",\"wishing\",\"listened\",\"heavy\",\"growing\",\"evening\",\"there'll\",\"Some\",\"who'll\",\"angels\",\"learn\",\"Hold\",\"uptown\",\"Whose\",\"heat\",\"Telling\",\"Know\",\"wrote\",\"willing\",\"Cast\",\"devil\",\"Devil\",\"Drown\",\"woes\",\"lake\",\"higher\",\"Good\",\"lord\",\"turned\",\"Lucifer\",\"Preacher\",\"slack\",\"Called\",\"demons\",\"Bruised\",\"Won't\",\"repent\",\"judgement\",\"Hoy\",\"Quiero\",\"Lo\",\"ayer\",\"nunca\",\"fue\",\"Puede\",\"ser\",\"Por\",\"ti\",\"camino\",\"toma\",\"su\",\"tiempo\",\"al\",\"destino\",\"juego\",\"azar\",\"Es\",\"punto\",\"tierra\",\"entre\",\"tanto\",\"universo\",\"perd\\u00c3\\u00b3n\",\"olvido\",\"Encontrar\",\"intenci\\u00c3\\u00b3n\",\"esfuerzo\",\"El\",\"momento\",\"perfecto\",\"comenzar\",\"so\\u00c3\",\"\\u00b1\",\"ar\",\"lo\",\"\\u00a9\",\"puede\",\"Nunca\",\"Other\",\"proud\",\"puts\",\"most\",\"teasing\",\"doggone\",\"pleasing\",\"one's\",\"does\",\"lets\",\"pure\",\"Guess\",\"lucky\",\"crowded\",\"everywhere\",\"happy\",\"hung\",\"songs\",\"danced\",\"understood\",\"tie\",\"laughing\",\"loose\",\"pushed\",\"dragged\",\"tasted\",\"mud\",\"kissed\",\"choose\",\"bus\",\"roof\",\"Destination\",\"anywhere\",\"Living\",\"animal\",\"criminal\",\"Television\",\"newsman\",\"subliminal\",\"Bringing\",\"walls\",\"wonderland\",\"cowboy\",\"telling\",\"ought\",\"demolition\",\"Steal\",\"wreck\",\"Kiss\",\"bride\",\"cash\",\"check\",\"Tyson\",\"plus\",\"ripped\",\"torn\",\"Been\",\"edge\",\"jukebox\",\"change\",\"tune\",\"bank\",\"jump\",\"moon\",\"sink\",\"fleet\",\"buzz\",\"space\",\"primitive\",\"gong\",\"stuffed\",\"met\",\"lovely\",\"sublime\",\"held\",\"Warm\",\"month\",\"grand\",\"Grand\",\"yours\",\"prize\",\"Shining\",\"Y'a\",\"comme\",\"go\\u00c3\",\"\\u00bb\",\"amer\",\"nous\",\"Comme\",\"poussi\\u00c3\",\"\\u00a8\",\"dans\",\"tout\",\"Et\",\"col\\u00c3\",\"qui\",\"suit\",\"partout\",\"des\",\"silences\",\"disent\",\"beaucoup\",\"Plus\",\"tous\",\"les\",\"mots\",\"qu'on\",\"toutes\",\"ces\",\"questions\",\"ne\",\"pas\",\"debout\",\"danse\",\"encore\",\"sur\",\"Qu'on\",\"tant\",\"rit\",\"pour\",\"enfants\",\"Mais\",\"avant\",\"fout\",\"C'est\",\"une\",\"fatigue\",\"d\\u00c3\",\"quoi\",\"\\u00a7\",\"sert\",\"courir\",\"garde\",\"cette\",\"blessure\",\"Qui\",\"rien\",\"Pas\",\"meni\",\"\\u00b6\",\"Hem\",\"hem\",\"sana\",\"ate\\u00c5\",\"\\u009f\",\"g\\u00c3\",\"bilirim\",\"y\\u00c4\",\"\\u00c4\",\"nda\",\"ekip\",\"Ne\",\"olur\",\"sevgilim\",\"Nas\\u00c4\",\"akl\\u00c4\",\"ma\",\"\\u00c5\",\"a\\u00c5\",\"rd\\u00c4\",\"k\\u00c4\",\"nl\\u00c4\",\"seni\",\"x2\",\"Bir\",\"g\\u00c3\\u00bcn\",\"im\",\"sen\",\"gibi\",\"z\",\"Hypocrisy\",\"Along\",\"went\",\"astray\",\"seeking\",\"redemption\",\"intention\",\"woah\",\"surround\",\"extraordinary\",\"People\",\"Evil\",\"abound\",\"woa\",\"WILL\",\"plenty\",\"who's\",\"evil\",\"Humility\",\"gravity\",\"surprise\",\"defies\",\"KNOW\",\"Written\",\"Benjamin\",\"Released\",\"1\",\"2010\",\"Benny\",\"Z\",\"Vocals\",\"Guitar\",\"Doc\",\"Mike\",\"Bass\",\"Roger\",\"Percussion\",\"medicine\",\"bmi\",\"rights\",\"reserved\",\"duplication\",\"violation\",\"Hark\",\"silver\",\"throw\",\"bringing\",\"cheer\",\"meek\",\"bold\",\"Ding-dong\",\"ding-dong\",\"joyful\",\"caroling\",\"filling\",\"Gaily\",\"Songs\",\"merry\",\"Their\",\"tone\",\"Ding\",\"ding\",\"dong\",\"di-di-di-di-di-di-di-ding\",\"oh-oh\",\"oh-oh-oh-oh-oh\",\"oh-oh-oh\",\"ding-ding\",\"Pay\",\"writing\",\"Empty\",\"men\",\"Drums\",\"Nowhere\",\"Run\",\"seas\",\"empty\",\"hunger\",\"land\",\"blind\",\"lead\",\"Way\",\"Easy\",\"hopeless\",\"Middle\",\"Children\",\"Blinded\",\"Follow\",\"pilgrim\",\"dawn\",\"sacrifice\",\"write\",\"golden\",\"rules\",\"mortal\",\"fools\",\"Moon\",\"Learned\",\"Diamonds\",\"tick\",\"Self\",\"credit\",\"cards\",\"Luxury\",\"Changing\",\"names\",\"pool\",\"short\",\"dime\",\"affair\",\"rock\",\"tiny\",\"points\",\"heavens\",\"pearl\",\"windows\",\"Look\",\"poetry\",\"running\",\"breath\",\"sigh\",\"aching\",\"emptiness\",\"hardly\",\"precious\",\"gift\",\"thousand\",\"butterflies\",\"violin\",\"Was\",\"lightning\",\"striking\",\"reach\",\"galan\",\"dentist\",\"Mi\",\"Sweden\",\"datta\",\"sandwich\",\"ABC\",\"123\",\"plant\",\"sugarcane\",\"Anywhere\",\"London\",\"New\",\"York\",\"Stockholm\",\"Moscow\",\"terminar\",\"esta\",\"situacin\",\"Noches\",\"final\",\"amantes\",\"ocasin\",\"ms\",\"tengo\",\"humor\",\"slo\",\"gran\",\"vaco\",\"dejaste\",\"razn\",\"Pero\",\"pero\",\"acab\",\"calor\",\"temor\",\"adis\",\"Tengo\",\"encontrar\",\"tranquilidad\",\"cuerpo\",\"fiera\",\"jaula\",\"cristal\",\"Toda\",\"verdad\",\"voy\",\"decir\",\"fuiste\",\"[\",\"Axel\",\"Rudi\",\"Pell\",\"]\",\"Lyrics\",\"Charlie\",\"Hot\",\"gunnin\",\"dynamite\",\"fever\",\"runnin\",\"steel\",\"packin\",\"prowl\",\"2\",\"wheeler\",\"losin\",\"Heed\",\"wild\",\"dogs\",\"slippin\",\"Sneak\",\"ringin\",\"wound\",\"stingin\",\"nor\",\"fright\",\"surrender\",\"future's\",\"Repeat\",\"Bridge\",\"Solo\",\"memories\",\"subsides\",\"casting\",\"fate\",\"veins\",\"passion's\",\"losing\",\"Loving\",\"omens\",\"Woman\",\"passed\",\"Crushed\",\"calm\",\"insecurity\",\"Over\",\"difference\",\"lover\",\"bird\",\"passing\",\"stealing\",\"water\",\"salt\",\"heal\",\"cuz\",\"heart's\",\"flat\",\"tire\",\"sulk\",\"admire\",\"hoping\",\"turtle\",\"Heaven\",\"Constantly\",\"drift\",\"Forever\",\"millions\",\"Searching\",\"granted\",\"often\",\"unsaid\",\"living\",\"beyond\",\"circumstances\",\"reality\",\"Jesus\",\"causes\",\"finding\",\"remains\",\"dreamed\",\"hotel\",\"upon\",\"seed\",\"sown\",\"hate\",\"crooked\",\"straight\",\"son\",\"jack\",\"worthless\",\"brain\",\"lazy\",\"productive\",\"drink\",\"wives\",\"jews\",\"cheap\",\"fallacy\",\"majority\",\"blacks\",\"dads\",\"shower\",\"authority\",\"members\",\"mafia\",\"gay\",\"pink\",\"shirts\",\"terrorists\",\"strapped\",\"chests\",\"polish\",\"myth\",\"scare\",\"french\",\"pussies\",\"easily\",\"fit\",\"hello\",\"sharing\",\"welcome\",\"Hello\",\"Te\",\"echo\",\"menos\",\"digo\",\"busco\",\"pienso\",\"siento\",\"habra\",\"nadie\",\"aqui\",\"espero\",\"vida\",\"cansada\",\"este\",\"frio\",\"quita\",\"razones\",\"buscarte\",\"necesidad\",\"verte\",\"hablarte\",\"esperarte\",\"por\",\"creo\",\"haya\",\"mundo\",\"quien\",\"ame\",\"sobra\",\"viento\",\"vuelvas\",\"aunque\",\"sombra\",\"quererte\",\"olvidar\",\"felicidad\",\"dio\",\"probar\",\"liberty\",\"non-believer\",\"laughs\",\"stays\",\"gather\",\"forest\",\"moved\",\"locket\",\"father\",\"Farther\",\"path\",\"mystery\",\"recess\",\"chalk\",\"numbers\",\"bumped\",\"Na\",\"na\",\"bobba\",\"reba\",\"Everybody\",\"Wa\",\"lee\",\"collecting\",\"Kept\",\"a-comin\",\"guy\",\"He\",\"Vibrations\",\"Said\",\"Cool\",\"vibrations\",\"Ah\",\"vibrate\",\"La\",\"Ba\",\"ba\",\"She'll\",\"return\",\"Mmm\",\"mmm\",\"mirror\",\"woman\",\"internally\",\"dyin\",\"love's\",\"second\",\"wakin\",\"screamin\",\"believin\",\"lied\",\"Gettin\",\"Rain\",\"tossin\",\"turnin\",\"burnin\",\"I-I\",\"fuel\",\"wasted\",\"nothin\",\"tired\",\"strain\",\"Almost\",\"La-la-la-la-la-la-la\",\"La-la-la\",\"La-la-la-la-la-la\",\"prayed\",\"cheat\",\"heed\",\"command\",\"causing\",\"Quelques\",\"fois\",\"je\",\"dis\",\"parle\",\"trop\",\"regardes\",\"et\",\"mon\",\"coeur\",\"tombe\",\"l'eau\",\"ris\",\"Tu\",\"n'why\",\"comprends\",\"coup\",\"pose\",\"response\",\"est\",\"mes\",\"yeux\",\"Elle\",\"quelque\",\"au\",\"milieu\",\"deux\",\"dire\",\"Puisque\",\"sais\",\"deja\",\"Tout\",\"ce\",\"fais\",\"aujourd'hui\",\"see'est\",\"toi\",\"j'aime\",\"suis\",\"bras\",\"rouge\",\"blanc\",\"temps\",\"aussi\",\"Je\",\"trouve\",\"fille\",\"hier\",\"Ta\",\"presence\",\"moi\",\"reveille\",\"dort\",\"connais\",\"quelqu'un\",\"nouveau\",\"Quelqu'un\",\"beau\",\"fort\",\"Cuz\",\"brewing\",\"somehow\",\"Dear\",\"Eyes\",\"Beneath\",\"shoot\",\"burden\",\"You'd\",\"replies\",\"These\",\"spent\",\"realized\",\"purple\",\"prose\",\"gives\",\"unbelievable\",\"problems\",\"By\",\"concerned\",\"Pushing\",\"relative\",\"pushing\",\"Down\",\"clues\",\"anger\",\"Yourself\",\"grace\",\"fast\",\"chasing\",\"dragons\",\"sword\",\"tin\",\"par\",\"canciones\",\"desde\",\"cielo\",\"Nos\",\"amores\",\"Que\",\"noche\",\"pasar\",\"Hasta\",\"desierto\",\"llenar\",\"Con\",\"agua\",\"del\",\"mar\",\"simples\",\"todos\",\"Yo\",\"podr\\u00c3\",\"\\u00ad\",\"tan\",\"fuerte\",\"ocurrir\",\"muros\",\"pensamos\",\"Se\",\"pueden\",\"abrir\",\"buenas\",\"echar\",\"mano\",\"hallar\",\"mil\",\"m\\u00c3\",\"\\u00a1\",\"humanos\",\"dejar\",\"remedio\",\"caridad\",\"Dedicadas\",\"est\\u00c3\",\"n\",\"abandonados\",\"futuro\",\"indiferente\",\"Sin\",\"presente\",\"sue\\u00c3\",\"o\",\"muy\",\"profundo\",\"M\\u00c3\",\"fuera\",\"dentro\",\"oooooooh\",\"grandes\",\"hacer\",\"bien\",\"cosas\",\"ilusiones\",\"os\",\"rosa\",\"coraz\\u00c3\\u00b3n\",\"nos\",\"latir\",\"fuerza\",\"sol\",\"cruel\",\"lights\",\"ends\",\"meet\",\"complete\",\"Without\",\"checked\",\"undo\",\"takes\",\"rainy\",\"nights\",\"coldest\",\"moments\",\"seconds\",\"principal\",\"nature\",\"safe\",\"leader\",\"Whatever\",\"choice\",\"stream\",\"Round\",\"hills\",\"dreamt\",\"returning\",\"Kealoha\",\"Kv'v\",\"Home\",\"Kahalvv\",\"wiser\",\"lingered\",\"sister\",\"Change\",\"strangest\",\"denied\",\"Move\",\"slowly\",\"laughed\",\"greet\",\"brand\",\"accept\",\"Lawrence\",\"Once\",\"future\",\"tale\",\"unfold\",\"dare\",\"unknown\",\"Torn\",\"appear\",\"listening\",\"mighty\",\"Came\",\"Very\",\"hell\",\"Dark\",\"barren\",\"savage\",\"deserved\",\"masses\",\"Cry\",\"rage\",\"Cursing\",\"revealed\",\"Everyone\",\"kept\",\"Wanted\",\"hateful\",\"rot\",\"unfurled\",\"Get\",\"Welcome\",\"Looking\",\"uninspired\",\"unkind\",\"natural\",\"claim\",\"helped\",\"doubtful\",\"Whatcha\",\"celestial\",\"gates\",\"worldly\",\"spheres\",\"unknow\",\"planet\",\"ancient\",\"sphinx\",\"throne\",\"create\",\"aura\",\"unique\",\"superior\",\"rooms\",\"dimensions\",\"unexplained\",\"palace\",\"eternity\",\"books\",\"search\",\"temples\",\"pyramids\",\"meaningless\",\"trace\",\"confront\",\"silently\",\"gazes\",\"piercing\",\"struck\",\"anxiety\",\"charisma\",\"motions\",\"glance\",\"spreads\",\"rising\",\"heights\",\"brightest\",\"yet\",\"alley\",\"Night\",\"horse\",\"Backyard\",\"kitchen\",\"team\",\"mission\",\"Going\",\"Sunday\",\"kickin\",\"Stones\",\"roam\",\"gum\",\"Awake\",\"company\",\"trail\",\"blaze\",\"cock\",\"crows\",\"winds\",\"blow\",\"Sky\",\"milky\",\"chapter\",\"Thanks\",\"page\",\"acknowledge\",\"progress\",\"reminder\",\"conquered\",\"Here's\",\"older\",\"tables\",\"Pick\",\"ashes\",\"Heading\",\"coast\",\"Trying\",\"misery\",\"tearing\",\"Thinkin\",\"Tomorrow\",\"L\",\"story\",\"driving\",\"insane\",\"Help\",\"saved\",\"queen\",\"brave\",\"bellies\",\"ships\",\"drifted\",\"gate\",\"west\",\"wide\",\"open\",\"promised\",\"seemed\",\"infinite\",\"nestled\",\"ourselves\",\"warmth\",\"western\",\"plain\",\"adjust\",\"freedom\",\"aloud\",\"About\",\"brotherly\",\"shove\",\"death\",\"highways\",\"pumping\",\"era\",\"caught\",\"Miss\",\"Fortune\",\"Poverty\",\"bound\",\"stripped\",\"crown\",\"storms\",\"weathered\",\"September\",\"Centuries\",\"generation's\",\"12th\",\"patriots\",\"orange\",\"embers\",\"glow\",\"also\",\"loud\",\"lean\",\"etched\",\"graves\",\"faded\",\"Fifteen\",\"miles\",\"Shack\",\"headin\",\"highway\",\"Lookin\",\"getaway\",\"Headed\",\"whale\",\"Chrysler\",\"seats\",\"twenty\",\"Sign\",\"woo\",\"field\",\"funky\",\"shack\",\"Glitter\",\"mattress\",\"hallway\",\"Huggin\",\"dancin\",\"a-lovin\",\"Wearin\",\"next\",\"oven\",\"everybody's\",\"movin\",\"Everybody's\",\"groovin\",\"Folks\",\"linin\",\"Funky\",\"Hop\",\"sail\",\"Knock\",\"sugar\",\"Tin\",\"rusted\",\"giving\",\"electro\",\"TV\",\"Anything\",\"chains\",\"surprised\",\"upward\",\"deem\",\"extreme\",\"behavior\",\"bit\",\"ideal\",\"man's\",\"treasure\",\"stored\",\"Heaven's\",\"gain\",\"earth\",\"Lose\",\"kisses\",\"necks\",\"*\",\"misses\",\"poets\",\"record\",\"skipping\",\"slipping\",\"besides\",\"reputation's\",\"fake\",\"airwaves\",\"Force\",\"smiles\",\"comparing\",\"doctor\",\"Blame\",\"breaking\",\"hopelessly\",\"hopeful\",\"They're\",\"toy\",\"one-night\",\"Meet\",\"rainbow\",\"Whenever\",\"Part\",\"leaf\",\"clovers\",\"totally\",\"Hmm\",\"+\",\"glove\",\"tomorrow's\",\"naive\",\"ahead\",\"joys\",\"Wants\",\"mend\",\"despite\",\"stops\",\"I-I-I-I\",\"slow\",\"Uh\",\"{\",\"Slow\",\"}\",\"speed\",\"Peep\",\"baked\",\"bread\",\"Neck\",\"row\",\"Skin\",\"smoother\",\"grab\",\"camera\",\"Talk\",\"Weekend\",\"Bahamas\",\"plans\",\"coochie\",\"Ballin\",\"G\",\"California\",\"cage\",\"rattlesnake\",\"Ass\",\"earthquake\",\"motion\",\"screwed\",\"cup\",\"Verse\",\"Bash\",\"slowed\",\"sippin\",\"Jemima\",\"molasses\",\"tits\",\"checkin\",\"draft\",\"picks\",\"mad\",\"mo\",\"3D\",\"glasses\",\"Slower\",\"harder\",\"rigor\",\"mortis\",\"none\",\"Libra\",\"Taurus\",\"Grind\",\"feed\",\"foreplay\",\"grease\",\"Oil\",\"pop\",\"P\",\"lottery\",\"robbery\",\"Baby-baby\",\"Usher\",\"Kali\",\"T\",\"baddest\",\"chick\",\"Okay\",\"trick\",\"First\",\"balcony\",\"snail\",\"Bringin\",\"hairdo\",\"Pour\",\"desert\",\"size\",\"fade\",\"Mostly\",\"mostly\",\"cloud\",\"taken\",\"police\",\"paranoid\",\"creature\",\"John\",\"Revelator\",\"elevator\",\"highest\",\"mountains\",\"book\",\"He's\",\"smooth\",\"operator\",\"alibis\",\"claiming\",\"god\",\"Stealing\",\"Muslim\",\"Seven\",\"multiplied\",\"seven\",\"trumpets\",\"Send\",\"train\",\"shouting\",\"bow\",\"Bye-bye\",\"fuckin\",\"Together\",\"scene\",\"VIOLENCE\",\"gig\",\"YOUR\",\"LIFE\",\"fuckers\",\"repeat\",\"Full\",\"soft\",\"Unspoken\",\"lovers\",\"Isn't\",\"Who's\",\"certain\",\"happens\",\"Afraid\",\"bathed\",\"Tonight\",\"tells\",\"mornings\",\"curtains\",\"drawn\",\"opened\",\"quiet\",\"Anymore\",\"1st\",\"verse\",\"Anne\",\"99\",\"pies\",\"food\",\"skinny\",\"she'd\",\"killed\",\"stomach\",\"gettin\",\"bigger\",\"chicken\",\"cookies\",\"foods\",\"weren't\",\"cooked\",\"fish\",\"bait\",\"she'll\",\"diets\",\"alternate\",\"2nd\",\"$\",\"#\",\"@\",\"hungry\",\"overweight\",\"buns\",\"fan\",\"mite\",\"became\",\"Richard\",\"Simmons\",\"happened\",\"cuttin\",\"moderation\",\"tummy\",\"tum\",\"%\",\"ending\",\"stomachs\",\"kinda\",\"flops\",\"NO\",\"ould\",\"dejas\",\"caer\",\"Guardo\",\"caja\",\"dulces\",\"decides\",\"venir\",\"comer\",\"Los\",\"Hansel\",\"Gretel\",\"parecen\",\"tristes\",\"Las\",\"hadas\",\"amiga\",\"bailarina\",\"tomar\",\"caf\",\"Dio\",\"gatos\",\"Har\",\"debut\",\"pronto\",\"Suea\",\"figura\",\"teatro\",\"Kiev\",\"dar\",\"vuelta\",\"llover\",\"todo\",\"mal\",\"Un\",\"disco\",\"suena\",\"fondo\",\"hace\",\"Le\",\"va\",\"estallar\",\"deje\",\"desespera\",\"puedo\",\"empezar\",\"ao\",\"hecho\",\"mierda\",\"otra\",\"vez\",\"Qu\",\"mala\",\"aqu\",\"vamos\",\"tres\",\"antes\",\"nuestra\",\"casa\",\"convertida\",\"below\",\"daisies\",\"roses\",\"snow\",\"heartbeat\",\"Today\",\"Thank\",\"nest\",\"eagles\",\"given\",\"happenin\",\"flyin\",\"sunset\",\"sunrise\",\"something's\",\"noose\",\"broke\",\"elephants\",\"graveyard\",\"dies\",\"tension\",\"cheaper\",\"pension\",\"forgot\",\"mention\",\"guilty\",\"till\",\"proven\",\"Guilty\",\"rinse\",\"shuffle\",\"beach\",\"muscle\",\"golf\",\"cart\",\"judge\",\"jury\",\"calls\",\"lawyer\",\"Disneyland\",\"wre\",\"etc\",\"Justice\",\"burns\",\"24\",\"hour\",\"pay\",\"duties\",\"duty\",\"healthy\",\"diet\",\"sea's\",\"street's\",\"riot\",\"Taken\",\"Shame\",\"shimmy\",\"bae\",\"universe\",\"Focus\",\"curious\",\"react\",\"3\",\"focus\",\"flickered\",\"roots\",\"blocked\",\"stairs\",\"slipped\",\"cracks\",\"commotion\",\"rips\",\"grudge\",\"tore\",\"sheets\",\"shelf\",\"teenage\",\"runaway\",\"killer\",\"closer\",\"rollercoaster\",\"Rollercoaster\",\"Those\",\"endless\",\"traveled\",\"stole\",\"clothes\",\"lit\",\"hundred\",\"Mr\",\"Grinch\",\"heel\",\"cactus\",\"charming\",\"eel\",\"banana\",\"greasy\",\"peel\",\"spiders\",\"garlic\",\"foul\",\"nasty\",\"skunk\",\"unwashed\",\"socks\",\"quote\",\"Stink\",\"super\",\"jerky\",\"jockey\",\"sauce\",\"mom\",\"lump\",\"pants\",\"Son\",\"Vom\",\"Making\",\"Jazz\",\"mummy\",\"yummy\",\"I'M\",\"IN\",\"LOVE\",\"WITH\",\"Yours\",\"milk\",\"english\",\"plot\",\"Has\",\"college\",\"twat\",\"Wish\",\"suckin\",\"sore\",\"limp\",\"N\\u00c3\",\"\\u00a3\",\"vou\",\"preocupar\",\"com\",\"Com\",\"lan\\u00c3\",\"perto\",\"Eu\",\"posso\",\"confiar\",\"eu\",\"descansar\",\"Pra\",\"falar\",\"primeira\",\"Aquele\",\"n\\u00c3\",\"tem\",\"pecado\",\"aquele\",\"defender\",\"minha\",\"dor\",\"pra\",\"chorar\",\"comigo\",\"debaixo\",\"tua\",\"Isso\",\"meus\",\"imposs\\u00c3\",\"veis\",\"Ser\\u00c3\",\"sempre\",\"pelo\",\"meu\",\"advogado\",\"Meu\",\"senhor\",\"Ele\",\"Minha\",\"causa\",\"entreguei\",\"suas\",\"Posso\",\"cora\\u00c3\",\"ele\",\"j\\u00c3\",\"E\",\"novo\",\"vencedor\",\"mora\",\"l\\u00c3\",\"c\\u00c3\",\"u\",\"justo\",\"fiel\",\"mim\",\"Helpless\",\"flown\",\"sealed\",\"destroy\",\"wasteland\",\"chain\",\"links\",\"Wars\",\"survived\",\"exist\",\"watched\",\"disappears\",\"revealing\",\"leads\",\"whenever\",\"speaks\",\"lifetime\",\"Shapes\",\"teach\",\"despise\",\"frame\",\"soldier\",\"bolder\",\"green\",\"tide\",\"Boy\",\"lands\",\"sands\",\"outstretched\",\"Finally\",\"statement\",\"based\",\"tumbling\",\"Honey\",\"solemn\",\"vow\",\"hangs\",\"pretty\",\"clean\",\"Ohio\",\"sell\",\"dam\",\"store\",\"Big\",\"Apple\",\"dreamin\",\"wooden\",\"Skyscrapers\",\"subways\",\"stations\",\"Staring\",\"United\",\"Nations\",\"swallow\",\"Heard\",\"massages\",\"While\",\"Fading\",\"dialog\",\"MUSIC\",\"sir\",\"tails\",\"lots\",\"folks\",\"hall\",\"chairs\",\"heirs\",\"furs\",\"diamonds\",\"silly\",\"strikes\",\"eight\",\"wife\",\"weather\",\"anticipate\",\"Sir\",\"Stronger\",\"crash\",\"knife\",\"favorite\",\"weapon\",\"Chewing\",\"eating\",\"Hurting\",\"Walking\",\"splinters\",\"elected\",\"21\",\"Colors\",\"grey\",\"slump\",\"crisis\",\"depression\",\"sets\",\"fix\",\"problem\",\"bottle\",\"gin\",\"couple\",\"childhood\",\"bear\",\"sober\",\"ok\",\"complicated\",\"rated\",\"mistaken\",\"Draw\",\"Lights\",\"dimmed\",\"starting\",\"Start\",\"circus\",\"They've\",\"apologize\",\"answer\",\"suggestions\",\"Tear\",\"seams\",\"satisfaction\",\"Seems\",\"hidden\",\"Grace\",\"fail\",\"forgive\",\"perfect\",\"Thinking\",\"boss\",\"learning\",\"weve\",\"graduated\",\"prison\",\"Hand\",\"generation\",\"shut\",\"youre\",\"wont\",\"zoo\",\"penguin\",\"waving\",\"Theres\",\"dwarf\",\"hes\",\"smoking\",\"pipe\",\"Theyre\",\"monkey\",\"Being\",\"messed\",\"Didn't\",\"expect\",\"rewind\",\"Feels\",\"insomnia\",\"ah\",\"fallen\",\"gentlemen\",\"Swallow\",\"prayers\",\"wind\",\"mockery\",\"becomes\",\"swim\",\"idle\",\"waters\",\"fishes\",\"piss\",\"feeds\",\"puss\",\"symbol\",\"Hooked\",\"maggots\",\"ripple\",\"Choose\",\"thirsty\",\"Thirsty\",\"Work\",\"Spend\",\"Pain\",\"lust\",\"Lust\",\"Kill\",\"Burning\",\"Money\",\"root\",\"Ooo-oo\",\"ohi\",\"beibi\",\"l\",\"mua\",\"Sit\",\"vuotta\",\"Sen\",\"sulle\",\"Ei\",\"ollut\",\"hmm\",\"nan\",\"CHORUS\",\"Nan\",\"nae\",\"mam\",\"aju\",\"ijen\",\"~\",\"Urin\",\"Wae\",\"baro\",\"hoo\",\"Bethlehem\",\"silent\",\"Above\",\"dreamless\",\"giant\",\"shines\",\"everlasting\",\"manger\",\"stepped\",\"Jerusalem\",\"savior\",\"dying\",\"States\",\"sung\",\"philosophies\",\"shout\",\"eastern\",\"bridegroom\",\"returned\",\"nation\",\"Somewhere\",\"Ive\",\"lullaby\",\"Skies\",\"Really\",\"Ill\",\"troubles\",\"lemon\",\"drops\",\"Away\",\"chimney\",\"tops\",\"Thats\",\"youll\",\"Bluebirds\",\"Birds\",\"cant\",\"mix\",\"separate\",\"dumb\",\"politics\",\"scarred\",\"slower\",\"deepest\",\"uhh\",\"It'll\",\"hill\",\"chill\",\"uh\",\"bug\",\"Dropping\",\"fling\",\"proceed\",\"guaranteed\",\"Instrumental\",\"devour\",\"madness\",\"beauty\",\"sadness\",\"rearrange\",\"selfish\",\"Walk\",\"ignore\",\"ye\",\"ugly\",\"poet\",\"rhyme\",\"unearthly\",\"Apart\",\"violence\",\"explode\",\"Selfish\",\"Pillow\",\"hang\",\"serious\",\"damn\",\"delirious\",\"Slowly\",\"leash\",\"Until\",\"Hang\",\"puddles\",\"protect\",\"walks\",\"carpet\",\"girl's\",\"uses\",\"hurtin\",\"carpets\",\"thin\",\"thrown\",\"herself\",\"sunny\",\"wedding\",\"course\",\"groom\",\"poor\",\"trusting\",\"makin\",\"Lies\",\"handle\",\"lyin\",\"tellin\",\"playin\",\"rule\",\"list\",\"price\",\"ol\",\"Pre\",\"glued\",\"pressure's\",\"bites\",\"death's\",\"sting\",\"friendly\",\"skies\",\"doomed\",\"float\",\"parachute\",\"balloon\",\"jumped\",\"follow\",\"rides\",\"prince\",\"plays\",\"velvet\",\"breathes\",\"damned\",\"Bad\",\"worse\",\"judgment\",\"curse\",\"Swimming\",\"Washes\",\"mistress\",\"Swinging\",\"backyard\",\"Pull\",\"Whistling\",\"Open\",\"beer\",\"video\",\"favourite\",\"Watching\",\"undressed\",\"downtown\",\"bestest\",\"Lean\",\"perfume\",\"built\",\"Singing\",\"bars\",\"fame\",\"Kissing\",\"darts\",\"Video\",\"holds\",\"Drunk\",\"seeing\",\"Paul's\",\"luz\",\"piano\",\"quede\",\"Pude\",\"ca\\u00c3\",\"minutos\",\"detr\\u00c3\",\"reloj\",\"cierra\",\"tel\\u00c3\\u00b3n\",\"sal\",\"corte\",\"virtual\",\"Pare\",\"brillar\",\"girar\",\"t\\u00c3\",\"faltar\",\"acabar\",\"lluvia\",\"tengan\",\"color\",\"calma\",\"abrazos\",\"despu\\u00c3\",\"dolor\",\"breast\",\"Chinese\",\"English\",\"rhythm\",\"lesson\",\"How's\",\"sip\",\"tip\",\"Wah\",\"spread\",\"pounds\",\"wan\",\"Loneliness\",\"chattering\",\"Whoa\",\"longin\",\"Days\",\"weeks\",\"months\",\"Filling\",\"Tryin\",\"clapping\",\"Woa\",\"Hard\",\"Driving\",\"overkill\",\"Tellin\",\"everything's\",\"Loud\",\"journal\",\"picturesque\",\"Carry\",\"deaf\",\"Speaking\",\"Am\",\"documentary\",\"Fly\",\"rivers\",\"Colorado\",\"Noel\",\"shepherds\",\"fields\",\"keeping\",\"sheep\",\"winter's\",\"Born\",\"King\",\"Israel\",\"east\",\"continued\",\"freezing\",\"sly\",\"spiralling\",\"files\",\"ravaged\",\"dog\",\"Wells\",\"undone\",\"poisoned\",\"worn\",\"jewel\",\"bum\",\"Die\",\"ham\",\"ka\",\"Herz\",\"f\\u00fcr\",\"und\",\"kan\",\"Funken\",\"denken\",\"nur\",\"Profit\",\"san\",\"dumm\",\"k\\u00f6nnen\",\"zwar\",\"grade\",\"zieh'n\",\"doch\",\"ihr\",\"krumm\",\"Doch\",\"manchmal\",\"Blumen\",\"durch\",\"Kinder\",\"mit\",\"Tr\\u00e4nen\",\"dann\",\"Z\\u00e4rtlichkeit\",\"hab\",\"Sehnsucht\",\"nach\",\"dir\",\"gibt\",\"di\",\"jedem\",\"weu\",\"mir\",\"Menschen\",\"unserer\",\"Zeit\",\"jeden\",\"ein\",\"der\",\"net\",\"kann\",\"einer\",\"schrein\",\"aber\",\"daf\\u00fcr\",\"unsre\",\"Tr\\u00e4ume\",\"langsam\",\"Du\",\"kannst\",\"Welt\",\"gleich\",\"\\u00e4ndern\",\"Zeichen\",\"setzen\",\"das\",\"geht\",\"bis\",\"immer\",\"mehr\",\"wie's\",\"um\",\"wirklich\",\"steht\",\"du\",\"bist\",\"Licht\",\"uns\",\"scheint\",\"Sprache\",\"Menschheit\",\"wortlos\",\"vereint\",\"Mujeres\",\"van\",\"esquinas\",\"energa\",\"negros\",\"sentimientos\",\"cuesta\",\"realidad\",\"dura\",\"hijo\",\"esquina\",\"Todo\",\"sigue\",\"igual\",\"dan\",\"nada\",\"aguanta\",\"Triste\",\"muda\",\"haz\",\"quieras\",\"pases\",\"cintura\",\"miracle\",\"shown\",\"happiness\",\"happening\",\"wonderful\",\"guest\",\"desperate\",\"Right\",\"scars\",\"cuts\",\"remedy\",\"shelter\",\"Il\",\"silenzio\",\"rumore\",\"delle\",\"Anche\",\"il\",\"tuo\",\"spazio\",\"Non\",\"hai\",\"forza\",\"per\",\"cambiare\",\"paura\",\"scoprire\",\"libert\",\"che\",\"non\",\"vuoi\",\"avere\"],\"x\":{\"__ndarray__\":\"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\",\"dtype\":\"float32\",\"shape\":[4000]},\"y\":{\"__ndarray__\":\"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\",\"dtype\":\"float32\",\"shape\":[4000]}},\"selected\":{\"id\":\"1036\",\"type\":\"Selection\"},\"selection_policy\":{\"id\":\"1037\",\"type\":\"UnionRenderers\"}},\"id\":\"1028\",\"type\":\"ColumnDataSource\"}],\"root_ids\":[\"1003\"]},\"title\":\"Bokeh Application\",\"version\":\"1.0.4\"}};\n",
       "  var render_items = [{\"docid\":\"3dbf93bb-f729-4475-9781-b97e9cbe99e4\",\"roots\":{\"1003\":\"e2bf05ca-6ce8-4a28-b5f6-def805afee05\"}}];\n",
       "  root.Bokeh.embed.embed_items_notebook(docs_json, render_items);\n",
       "\n",
       "  }\n",
       "  if (root.Bokeh !== undefined) {\n",
       "    embed_document(root);\n",
       "  } else {\n",
       "    var attempts = 0;\n",
       "    var timer = setInterval(function(root) {\n",
       "      if (root.Bokeh !== undefined) {\n",
       "        embed_document(root);\n",
       "        clearInterval(timer);\n",
       "      }\n",
       "      attempts++;\n",
       "      if (attempts > 100) {\n",
       "        console.log(\"Bokeh: ERROR: Unable to run BokehJS code because BokehJS library is missing\");\n",
       "        clearInterval(timer);\n",
       "      }\n",
       "    }, 10, root)\n",
       "  }\n",
       "})(window);"
      ],
      "application/vnd.bokehjs_exec.v0+json": ""
     },
     "metadata": {
      "application/vnd.bokehjs_exec.v0+json": {
       "id": "1003"
      }
     },
     "output_type": "display_data"
    }
   ],
   "source": [
    "# defining the chart\n",
    "output_notebook()\n",
    "\n",
    "plot_tfidf = bp.figure(plot_width=700, plot_height=600, title=\"A map of word vectors\",\n",
    "    tools=\"pan,wheel_zoom,box_zoom,reset,hover,previewsave\",\n",
    "    x_axis_type=None, y_axis_type=None, min_border=1)\n",
    "\n",
    "# getting a list of word vectors. limit to 10000. each is of 200 dimensions\n",
    "word_vectors = [tweet_w2v[w] for w in list(tweet_w2v.wv.vocab.keys())[:4000]]\n",
    "\n",
    "# dimensionality reduction. converting the vectors to 2d vectors\n",
    "from sklearn.manifold import TSNE        \n",
    "tsne_model = TSNE(n_components=2, verbose=1, random_state=0)\n",
    "tsne_w2v = tsne_model.fit_transform(word_vectors)\n",
    "\n",
    "# putting everything in a dataframe\n",
    "tsne_df = pd.DataFrame(tsne_w2v, columns=['x', 'y'])\n",
    "tsne_df['words'] = list(tweet_w2v.wv.vocab.keys())[:4000]\n",
    "\n",
    "# plotting. the corresponding word appears when you hover on the data point.\n",
    "plot_tfidf.scatter(x='x', y='y', source=tsne_df)\n",
    "hover = plot_tfidf.select(dict(type=HoverTool))\n",
    "hover.tooltips={\"word\": \"@words\"}\n",
    "show(plot_tfidf)"
   ]
  },
  {
   "cell_type": "markdown",
   "metadata": {},
   "source": [
    "#### I hadn't noticed this before but that island in the bottom left reveals that there is a German bunch of songs in the data. There are also several Spanish islands but I knew that would happen already\n",
    "\n",
    "#### Another interesting observation is in the bottom middle there is an island of slang words that usually end in -ing but there end in -in"
   ]
  },
  {
   "cell_type": "code",
   "execution_count": 10,
   "metadata": {},
   "outputs": [
    {
     "name": "stdout",
     "output_type": "stream",
     "text": [
      "building tf-idf matrix ...\n",
      "vocab size : 30732\n"
     ]
    }
   ],
   "source": [
    "print('building tf-idf matrix ...')\n",
    "vectorizer = TfidfVectorizer(analyzer=lambda x: x, min_df=10)\n",
    "matrix = vectorizer.fit_transform([x.words for x in x_train])\n",
    "tfidf = dict(zip(vectorizer.get_feature_names(), vectorizer.idf_))\n",
    "print('vocab size :', len(tfidf))"
   ]
  },
  {
   "cell_type": "code",
   "execution_count": 11,
   "metadata": {},
   "outputs": [],
   "source": [
    "def buildWordVector(tokens, size):\n",
    "    vec = np.zeros(size).reshape((1, size))\n",
    "    count = 0.\n",
    "    for word in tokens:\n",
    "        try:\n",
    "            vec += tweet_w2v[word].reshape((1, size)) * tfidf[word]\n",
    "            count += 1.\n",
    "        except KeyError: # handling the case where the token is not\n",
    "                         # in the corpus. useful for testing.\n",
    "            continue\n",
    "    if count != 0:\n",
    "        vec /= count\n",
    "    return vec"
   ]
  },
  {
   "cell_type": "code",
   "execution_count": 12,
   "metadata": {},
   "outputs": [
    {
     "name": "stderr",
     "output_type": "stream",
     "text": [
      "48000it [02:53, 276.18it/s]\n",
      "12000it [00:45, 265.83it/s]\n"
     ]
    }
   ],
   "source": [
    "from sklearn.preprocessing import scale\n",
    "train_vecs_w2v = np.concatenate([buildWordVector(z, 200) for z in tqdm(map(lambda x: x.words, x_train))])\n",
    "train_vecs_w2v = scale(train_vecs_w2v)\n",
    "\n",
    "test_vecs_w2v = np.concatenate([buildWordVector(z, 200) for z in tqdm(map(lambda x: x.words, x_test))])\n",
    "test_vecs_w2v = scale(test_vecs_w2v)"
   ]
  },
  {
   "cell_type": "code",
   "execution_count": 17,
   "metadata": {
    "scrolled": true
   },
   "outputs": [
    {
     "name": "stdout",
     "output_type": "stream",
     "text": [
      "Epoch 1/25\n",
      "Epoch 2/25\n",
      "Epoch 3/25\n",
      "Epoch 4/25\n",
      "Epoch 5/25\n",
      "Epoch 6/25\n",
      "Epoch 7/25\n",
      "Epoch 8/25\n",
      "Epoch 9/25\n",
      "Epoch 10/25\n",
      "Epoch 11/25\n",
      "Epoch 12/25\n",
      "Epoch 13/25\n",
      "Epoch 14/25\n",
      "Epoch 15/25\n",
      "Epoch 16/25\n",
      "Epoch 17/25\n",
      "Epoch 18/25\n",
      "Epoch 19/25\n",
      "Epoch 20/25\n",
      "Epoch 21/25\n",
      "Epoch 22/25\n",
      "Epoch 23/25\n",
      "Epoch 24/25\n",
      "Epoch 25/25\n"
     ]
    },
    {
     "data": {
      "text/plain": [
       "<tensorflow.python.keras.callbacks.History at 0x1733efa90>"
      ]
     },
     "execution_count": 17,
     "metadata": {},
     "output_type": "execute_result"
    }
   ],
   "source": [
    "import tensorflow as tf\n",
    "\n",
    "def convert_to_float(var):\n",
    "    for i in range(len(var)):\n",
    "        if var[i] == \"Rock\":\n",
    "            var[i] = 0\n",
    "        if var[i] == \"Pop\":\n",
    "            var[i] = 1\n",
    "        if var[i] == \"Hip-Hop\":\n",
    "            var[i] = 2\n",
    "            \n",
    "#convert_to_float(y_train)\n",
    "\n",
    "model = tf.keras.models.Sequential()\n",
    "model.add(tf.keras.layers.Dense(32, activation='relu', input_dim=200))\n",
    "model.add(tf.keras.layers.Dense(1, activation='sigmoid'))\n",
    "model.compile(optimizer='rmsprop',\n",
    "              loss='binary_crossentropy',\n",
    "              metrics=['accuracy'])\n",
    "\n",
    "model.fit(train_vecs_w2v, y_train, epochs=25, verbose=2)"
   ]
  },
  {
   "cell_type": "code",
   "execution_count": 18,
   "metadata": {},
   "outputs": [
    {
     "name": "stdout",
     "output_type": "stream",
     "text": [
      "0.41583333333333333\n"
     ]
    }
   ],
   "source": [
    "convert_to_float(y_test)\n",
    "score = model.evaluate(test_vecs_w2v, y_test, verbose=2)\n",
    "print(score[1])"
   ]
  },
  {
   "cell_type": "markdown",
   "metadata": {},
   "source": [
    "#### This is pretty amazing actually. We achieved nearly 90% accuracy with this model. \n",
    "\n",
    "#### Does pretty poorly when trying to classify 3 genres"
   ]
  },
  {
   "cell_type": "code",
   "execution_count": 18,
   "metadata": {},
   "outputs": [
    {
     "data": {
      "text/plain": [
       "1"
      ]
     },
     "execution_count": 18,
     "metadata": {},
     "output_type": "execute_result"
    }
   ],
   "source": []
  },
  {
   "cell_type": "code",
   "execution_count": null,
   "metadata": {},
   "outputs": [],
   "source": []
  }
 ],
 "metadata": {
  "kernelspec": {
   "display_name": "Python 3",
   "language": "python",
   "name": "python3"
  },
  "language_info": {
   "codemirror_mode": {
    "name": "ipython",
    "version": 3
   },
   "file_extension": ".py",
   "mimetype": "text/x-python",
   "name": "python",
   "nbconvert_exporter": "python",
   "pygments_lexer": "ipython3",
   "version": "3.6.8"
  }
 },
 "nbformat": 4,
 "nbformat_minor": 2
}
